{
 "cells": [
  {
   "cell_type": "markdown",
   "id": "ef05130a",
   "metadata": {},
   "source": [
    "### Sentiment Analysis "
   ]
  },
  {
   "cell_type": "code",
   "execution_count": 1,
   "id": "fd46317c",
   "metadata": {},
   "outputs": [],
   "source": [
    "#importing packages\n",
    "\n",
    "import pandas as pd\n",
    "import seaborn as sns\n",
    "import matplotlib.pyplot as plt\n",
    "\n",
    "import numpy as np \n",
    "import string\n",
    "import spacy\n",
    "\n",
    "from nltk.corpus import stopwords\n",
    "import re\n",
    "\n",
    "import nltk\n",
    "\n",
    "# Avoid warnings\n",
    "import warnings\n",
    "warnings.simplefilter(\"ignore\")"
   ]
  },
  {
   "cell_type": "code",
   "execution_count": 2,
   "id": "369aebf5",
   "metadata": {
    "scrolled": true
   },
   "outputs": [
    {
     "data": {
      "text/html": [
       "<div>\n",
       "<style scoped>\n",
       "    .dataframe tbody tr th:only-of-type {\n",
       "        vertical-align: middle;\n",
       "    }\n",
       "\n",
       "    .dataframe tbody tr th {\n",
       "        vertical-align: top;\n",
       "    }\n",
       "\n",
       "    .dataframe thead th {\n",
       "        text-align: right;\n",
       "    }\n",
       "</style>\n",
       "<table border=\"1\" class=\"dataframe\">\n",
       "  <thead>\n",
       "    <tr style=\"text-align: right;\">\n",
       "      <th></th>\n",
       "      <th>Text_ID</th>\n",
       "      <th>Product_Description</th>\n",
       "      <th>Product_Type</th>\n",
       "      <th>Sentiment</th>\n",
       "    </tr>\n",
       "  </thead>\n",
       "  <tbody>\n",
       "    <tr>\n",
       "      <th>0</th>\n",
       "      <td>3057</td>\n",
       "      <td>The Web DesignerÛªs Guide to iOS (and Android...</td>\n",
       "      <td>9</td>\n",
       "      <td>2</td>\n",
       "    </tr>\n",
       "    <tr>\n",
       "      <th>1</th>\n",
       "      <td>6254</td>\n",
       "      <td>RT @mention Line for iPad 2 is longer today th...</td>\n",
       "      <td>9</td>\n",
       "      <td>2</td>\n",
       "    </tr>\n",
       "    <tr>\n",
       "      <th>2</th>\n",
       "      <td>8212</td>\n",
       "      <td>Crazy that Apple is opening a temporary store ...</td>\n",
       "      <td>9</td>\n",
       "      <td>2</td>\n",
       "    </tr>\n",
       "    <tr>\n",
       "      <th>3</th>\n",
       "      <td>4422</td>\n",
       "      <td>The lesson from Google One Pass: In this digit...</td>\n",
       "      <td>9</td>\n",
       "      <td>2</td>\n",
       "    </tr>\n",
       "    <tr>\n",
       "      <th>4</th>\n",
       "      <td>5526</td>\n",
       "      <td>RT @mention At the panel: &amp;quot;Your mom has a...</td>\n",
       "      <td>9</td>\n",
       "      <td>2</td>\n",
       "    </tr>\n",
       "    <tr>\n",
       "      <th>...</th>\n",
       "      <td>...</td>\n",
       "      <td>...</td>\n",
       "      <td>...</td>\n",
       "      <td>...</td>\n",
       "    </tr>\n",
       "    <tr>\n",
       "      <th>6359</th>\n",
       "      <td>2945</td>\n",
       "      <td>Thanks @mention for hosting this event #sxsw #...</td>\n",
       "      <td>9</td>\n",
       "      <td>2</td>\n",
       "    </tr>\n",
       "    <tr>\n",
       "      <th>6360</th>\n",
       "      <td>4528</td>\n",
       "      <td>SXSW iPhone app is awesome, but iPad app crash...</td>\n",
       "      <td>7</td>\n",
       "      <td>1</td>\n",
       "    </tr>\n",
       "    <tr>\n",
       "      <th>6361</th>\n",
       "      <td>6526</td>\n",
       "      <td>RT @mention RT @mention Download 20+ free trac...</td>\n",
       "      <td>9</td>\n",
       "      <td>2</td>\n",
       "    </tr>\n",
       "    <tr>\n",
       "      <th>6362</th>\n",
       "      <td>2110</td>\n",
       "      <td>OH at Texas Social Media Awards: 'You don't ne...</td>\n",
       "      <td>9</td>\n",
       "      <td>2</td>\n",
       "    </tr>\n",
       "    <tr>\n",
       "      <th>6363</th>\n",
       "      <td>2177</td>\n",
       "      <td>#Google launching a &amp;quot;major&amp;quot; new soci...</td>\n",
       "      <td>9</td>\n",
       "      <td>2</td>\n",
       "    </tr>\n",
       "  </tbody>\n",
       "</table>\n",
       "<p>6364 rows × 4 columns</p>\n",
       "</div>"
      ],
      "text/plain": [
       "      Text_ID                                Product_Description  \\\n",
       "0        3057  The Web DesignerÛªs Guide to iOS (and Android...   \n",
       "1        6254  RT @mention Line for iPad 2 is longer today th...   \n",
       "2        8212  Crazy that Apple is opening a temporary store ...   \n",
       "3        4422  The lesson from Google One Pass: In this digit...   \n",
       "4        5526  RT @mention At the panel: &quot;Your mom has a...   \n",
       "...       ...                                                ...   \n",
       "6359     2945  Thanks @mention for hosting this event #sxsw #...   \n",
       "6360     4528  SXSW iPhone app is awesome, but iPad app crash...   \n",
       "6361     6526  RT @mention RT @mention Download 20+ free trac...   \n",
       "6362     2110  OH at Texas Social Media Awards: 'You don't ne...   \n",
       "6363     2177  #Google launching a &quot;major&quot; new soci...   \n",
       "\n",
       "      Product_Type  Sentiment  \n",
       "0                9          2  \n",
       "1                9          2  \n",
       "2                9          2  \n",
       "3                9          2  \n",
       "4                9          2  \n",
       "...            ...        ...  \n",
       "6359             9          2  \n",
       "6360             7          1  \n",
       "6361             9          2  \n",
       "6362             9          2  \n",
       "6363             9          2  \n",
       "\n",
       "[6364 rows x 4 columns]"
      ]
     },
     "execution_count": 2,
     "metadata": {},
     "output_type": "execute_result"
    }
   ],
   "source": [
    "df = pd.read_csv(\"Product_details.csv\")\n",
    "df"
   ]
  },
  {
   "cell_type": "code",
   "execution_count": 3,
   "id": "2fd349ae",
   "metadata": {
    "scrolled": true
   },
   "outputs": [
    {
     "data": {
      "text/plain": [
       "(6364, 4)"
      ]
     },
     "execution_count": 3,
     "metadata": {},
     "output_type": "execute_result"
    }
   ],
   "source": [
    "df.shape"
   ]
  },
  {
   "cell_type": "code",
   "execution_count": 4,
   "id": "7581f10c",
   "metadata": {},
   "outputs": [
    {
     "data": {
      "text/plain": [
       "<bound method Series.unique of 0       The Web DesignerÛªs Guide to iOS (and Android...\n",
       "1       RT @mention Line for iPad 2 is longer today th...\n",
       "2       Crazy that Apple is opening a temporary store ...\n",
       "3       The lesson from Google One Pass: In this digit...\n",
       "4       RT @mention At the panel: &quot;Your mom has a...\n",
       "                              ...                        \n",
       "6359    Thanks @mention for hosting this event #sxsw #...\n",
       "6360    SXSW iPhone app is awesome, but iPad app crash...\n",
       "6361    RT @mention RT @mention Download 20+ free trac...\n",
       "6362    OH at Texas Social Media Awards: 'You don't ne...\n",
       "6363    #Google launching a &quot;major&quot; new soci...\n",
       "Name: Product_Description, Length: 6364, dtype: object>"
      ]
     },
     "execution_count": 4,
     "metadata": {},
     "output_type": "execute_result"
    }
   ],
   "source": [
    "df['Product_Description'].unique"
   ]
  },
  {
   "cell_type": "code",
   "execution_count": 5,
   "id": "7fdefbae",
   "metadata": {
    "scrolled": false
   },
   "outputs": [
    {
     "data": {
      "text/html": [
       "<div>\n",
       "<style scoped>\n",
       "    .dataframe tbody tr th:only-of-type {\n",
       "        vertical-align: middle;\n",
       "    }\n",
       "\n",
       "    .dataframe tbody tr th {\n",
       "        vertical-align: top;\n",
       "    }\n",
       "\n",
       "    .dataframe thead th {\n",
       "        text-align: right;\n",
       "    }\n",
       "</style>\n",
       "<table border=\"1\" class=\"dataframe\">\n",
       "  <thead>\n",
       "    <tr style=\"text-align: right;\">\n",
       "      <th></th>\n",
       "      <th>Product_Description</th>\n",
       "      <th>Product_Type</th>\n",
       "      <th>Sentiment</th>\n",
       "    </tr>\n",
       "  </thead>\n",
       "  <tbody>\n",
       "    <tr>\n",
       "      <th>0</th>\n",
       "      <td>The Web DesignerÛªs Guide to iOS (and Android...</td>\n",
       "      <td>9</td>\n",
       "      <td>2</td>\n",
       "    </tr>\n",
       "    <tr>\n",
       "      <th>1</th>\n",
       "      <td>RT @mention Line for iPad 2 is longer today th...</td>\n",
       "      <td>9</td>\n",
       "      <td>2</td>\n",
       "    </tr>\n",
       "    <tr>\n",
       "      <th>2</th>\n",
       "      <td>Crazy that Apple is opening a temporary store ...</td>\n",
       "      <td>9</td>\n",
       "      <td>2</td>\n",
       "    </tr>\n",
       "    <tr>\n",
       "      <th>3</th>\n",
       "      <td>The lesson from Google One Pass: In this digit...</td>\n",
       "      <td>9</td>\n",
       "      <td>2</td>\n",
       "    </tr>\n",
       "    <tr>\n",
       "      <th>4</th>\n",
       "      <td>RT @mention At the panel: &amp;quot;Your mom has a...</td>\n",
       "      <td>9</td>\n",
       "      <td>2</td>\n",
       "    </tr>\n",
       "    <tr>\n",
       "      <th>...</th>\n",
       "      <td>...</td>\n",
       "      <td>...</td>\n",
       "      <td>...</td>\n",
       "    </tr>\n",
       "    <tr>\n",
       "      <th>6359</th>\n",
       "      <td>Thanks @mention for hosting this event #sxsw #...</td>\n",
       "      <td>9</td>\n",
       "      <td>2</td>\n",
       "    </tr>\n",
       "    <tr>\n",
       "      <th>6360</th>\n",
       "      <td>SXSW iPhone app is awesome, but iPad app crash...</td>\n",
       "      <td>7</td>\n",
       "      <td>1</td>\n",
       "    </tr>\n",
       "    <tr>\n",
       "      <th>6361</th>\n",
       "      <td>RT @mention RT @mention Download 20+ free trac...</td>\n",
       "      <td>9</td>\n",
       "      <td>2</td>\n",
       "    </tr>\n",
       "    <tr>\n",
       "      <th>6362</th>\n",
       "      <td>OH at Texas Social Media Awards: 'You don't ne...</td>\n",
       "      <td>9</td>\n",
       "      <td>2</td>\n",
       "    </tr>\n",
       "    <tr>\n",
       "      <th>6363</th>\n",
       "      <td>#Google launching a &amp;quot;major&amp;quot; new soci...</td>\n",
       "      <td>9</td>\n",
       "      <td>2</td>\n",
       "    </tr>\n",
       "  </tbody>\n",
       "</table>\n",
       "<p>6364 rows × 3 columns</p>\n",
       "</div>"
      ],
      "text/plain": [
       "                                    Product_Description  Product_Type  \\\n",
       "0     The Web DesignerÛªs Guide to iOS (and Android...             9   \n",
       "1     RT @mention Line for iPad 2 is longer today th...             9   \n",
       "2     Crazy that Apple is opening a temporary store ...             9   \n",
       "3     The lesson from Google One Pass: In this digit...             9   \n",
       "4     RT @mention At the panel: &quot;Your mom has a...             9   \n",
       "...                                                 ...           ...   \n",
       "6359  Thanks @mention for hosting this event #sxsw #...             9   \n",
       "6360  SXSW iPhone app is awesome, but iPad app crash...             7   \n",
       "6361  RT @mention RT @mention Download 20+ free trac...             9   \n",
       "6362  OH at Texas Social Media Awards: 'You don't ne...             9   \n",
       "6363  #Google launching a &quot;major&quot; new soci...             9   \n",
       "\n",
       "      Sentiment  \n",
       "0             2  \n",
       "1             2  \n",
       "2             2  \n",
       "3             2  \n",
       "4             2  \n",
       "...         ...  \n",
       "6359          2  \n",
       "6360          1  \n",
       "6361          2  \n",
       "6362          2  \n",
       "6363          2  \n",
       "\n",
       "[6364 rows x 3 columns]"
      ]
     },
     "execution_count": 5,
     "metadata": {},
     "output_type": "execute_result"
    }
   ],
   "source": [
    "# Fetching the reqiuired Columns\n",
    "\n",
    "df_1 = df.iloc[:,1:4]\n",
    "df_1"
   ]
  },
  {
   "cell_type": "markdown",
   "id": "47ef47e6",
   "metadata": {},
   "source": [
    "# Data Preprocessing"
   ]
  },
  {
   "cell_type": "code",
   "execution_count": 6,
   "id": "e0057794",
   "metadata": {},
   "outputs": [
    {
     "name": "stdout",
     "output_type": "stream",
     "text": [
      "<class 'pandas.core.frame.DataFrame'>\n",
      "RangeIndex: 6364 entries, 0 to 6363\n",
      "Data columns (total 3 columns):\n",
      " #   Column               Non-Null Count  Dtype \n",
      "---  ------               --------------  ----- \n",
      " 0   Product_Description  6364 non-null   object\n",
      " 1   Product_Type         6364 non-null   int64 \n",
      " 2   Sentiment            6364 non-null   int64 \n",
      "dtypes: int64(2), object(1)\n",
      "memory usage: 149.3+ KB\n"
     ]
    }
   ],
   "source": [
    "df_1.info()"
   ]
  },
  {
   "cell_type": "code",
   "execution_count": 7,
   "id": "bae6db45",
   "metadata": {
    "scrolled": true
   },
   "outputs": [
    {
     "data": {
      "text/plain": [
       "Product_Description    0\n",
       "Product_Type           0\n",
       "Sentiment              0\n",
       "dtype: int64"
      ]
     },
     "execution_count": 7,
     "metadata": {},
     "output_type": "execute_result"
    }
   ],
   "source": [
    "#checking null values  \n",
    "df_1.isnull().sum()"
   ]
  },
  {
   "cell_type": "code",
   "execution_count": 8,
   "id": "ca1babb6",
   "metadata": {},
   "outputs": [
    {
     "data": {
      "text/html": [
       "<div>\n",
       "<style scoped>\n",
       "    .dataframe tbody tr th:only-of-type {\n",
       "        vertical-align: middle;\n",
       "    }\n",
       "\n",
       "    .dataframe tbody tr th {\n",
       "        vertical-align: top;\n",
       "    }\n",
       "\n",
       "    .dataframe thead th {\n",
       "        text-align: right;\n",
       "    }\n",
       "</style>\n",
       "<table border=\"1\" class=\"dataframe\">\n",
       "  <thead>\n",
       "    <tr style=\"text-align: right;\">\n",
       "      <th></th>\n",
       "      <th>Product_Type</th>\n",
       "      <th>Sentiment</th>\n",
       "    </tr>\n",
       "  </thead>\n",
       "  <tbody>\n",
       "    <tr>\n",
       "      <th>count</th>\n",
       "      <td>6364.000000</td>\n",
       "      <td>6364.000000</td>\n",
       "    </tr>\n",
       "    <tr>\n",
       "      <th>mean</th>\n",
       "      <td>7.462445</td>\n",
       "      <td>2.230673</td>\n",
       "    </tr>\n",
       "    <tr>\n",
       "      <th>std</th>\n",
       "      <td>2.440492</td>\n",
       "      <td>0.638413</td>\n",
       "    </tr>\n",
       "    <tr>\n",
       "      <th>min</th>\n",
       "      <td>0.000000</td>\n",
       "      <td>0.000000</td>\n",
       "    </tr>\n",
       "    <tr>\n",
       "      <th>25%</th>\n",
       "      <td>6.000000</td>\n",
       "      <td>2.000000</td>\n",
       "    </tr>\n",
       "    <tr>\n",
       "      <th>50%</th>\n",
       "      <td>9.000000</td>\n",
       "      <td>2.000000</td>\n",
       "    </tr>\n",
       "    <tr>\n",
       "      <th>75%</th>\n",
       "      <td>9.000000</td>\n",
       "      <td>3.000000</td>\n",
       "    </tr>\n",
       "    <tr>\n",
       "      <th>max</th>\n",
       "      <td>9.000000</td>\n",
       "      <td>3.000000</td>\n",
       "    </tr>\n",
       "  </tbody>\n",
       "</table>\n",
       "</div>"
      ],
      "text/plain": [
       "       Product_Type    Sentiment\n",
       "count   6364.000000  6364.000000\n",
       "mean       7.462445     2.230673\n",
       "std        2.440492     0.638413\n",
       "min        0.000000     0.000000\n",
       "25%        6.000000     2.000000\n",
       "50%        9.000000     2.000000\n",
       "75%        9.000000     3.000000\n",
       "max        9.000000     3.000000"
      ]
     },
     "execution_count": 8,
     "metadata": {},
     "output_type": "execute_result"
    }
   ],
   "source": [
    "df_1.describe()"
   ]
  },
  {
   "cell_type": "code",
   "execution_count": 9,
   "id": "6d1bbc79",
   "metadata": {
    "scrolled": true
   },
   "outputs": [
    {
     "data": {
      "text/plain": [
       "9    4070\n",
       "6     665\n",
       "2     465\n",
       "7     327\n",
       "3     300\n",
       "5     213\n",
       "8     194\n",
       "1      59\n",
       "0      52\n",
       "4      19\n",
       "Name: Product_Type, dtype: int64"
      ]
     },
     "execution_count": 9,
     "metadata": {},
     "output_type": "execute_result"
    }
   ],
   "source": [
    "#counts of every rating \n",
    "df_1['Product_Type'].value_counts()"
   ]
  },
  {
   "cell_type": "code",
   "execution_count": 10,
   "id": "c951eda0",
   "metadata": {
    "scrolled": false
   },
   "outputs": [
    {
     "data": {
      "text/plain": [
       "2    3765\n",
       "3    2089\n",
       "1     399\n",
       "0     111\n",
       "Name: Sentiment, dtype: int64"
      ]
     },
     "execution_count": 10,
     "metadata": {},
     "output_type": "execute_result"
    }
   ],
   "source": [
    "#counts of every rating \n",
    "df_1['Sentiment'].value_counts()"
   ]
  },
  {
   "cell_type": "code",
   "execution_count": 11,
   "id": "0cc2fcad",
   "metadata": {},
   "outputs": [
    {
     "data": {
      "text/plain": [
       "<bound method Series.duplicated of 0       The Web DesignerÛªs Guide to iOS (and Android...\n",
       "1       RT @mention Line for iPad 2 is longer today th...\n",
       "2       Crazy that Apple is opening a temporary store ...\n",
       "3       The lesson from Google One Pass: In this digit...\n",
       "4       RT @mention At the panel: &quot;Your mom has a...\n",
       "                              ...                        \n",
       "6359    Thanks @mention for hosting this event #sxsw #...\n",
       "6360    SXSW iPhone app is awesome, but iPad app crash...\n",
       "6361    RT @mention RT @mention Download 20+ free trac...\n",
       "6362    OH at Texas Social Media Awards: 'You don't ne...\n",
       "6363    #Google launching a &quot;major&quot; new soci...\n",
       "Name: Product_Description, Length: 6364, dtype: object>"
      ]
     },
     "execution_count": 11,
     "metadata": {},
     "output_type": "execute_result"
    }
   ],
   "source": [
    "df_1['Product_Description'].duplicated"
   ]
  },
  {
   "cell_type": "code",
   "execution_count": 12,
   "id": "c05386c1",
   "metadata": {},
   "outputs": [
    {
     "data": {
      "text/plain": [
       "12"
      ]
     },
     "execution_count": 12,
     "metadata": {},
     "output_type": "execute_result"
    }
   ],
   "source": [
    "df_1['Product_Description'].duplicated().sum()"
   ]
  },
  {
   "cell_type": "code",
   "execution_count": 13,
   "id": "34ccef77",
   "metadata": {},
   "outputs": [
    {
     "data": {
      "text/html": [
       "<div>\n",
       "<style scoped>\n",
       "    .dataframe tbody tr th:only-of-type {\n",
       "        vertical-align: middle;\n",
       "    }\n",
       "\n",
       "    .dataframe tbody tr th {\n",
       "        vertical-align: top;\n",
       "    }\n",
       "\n",
       "    .dataframe thead th {\n",
       "        text-align: right;\n",
       "    }\n",
       "</style>\n",
       "<table border=\"1\" class=\"dataframe\">\n",
       "  <thead>\n",
       "    <tr style=\"text-align: right;\">\n",
       "      <th></th>\n",
       "      <th>Product_Description</th>\n",
       "      <th>Product_Type</th>\n",
       "      <th>Sentiment</th>\n",
       "    </tr>\n",
       "  </thead>\n",
       "  <tbody>\n",
       "    <tr>\n",
       "      <th>0</th>\n",
       "      <td>The Web DesignerÛªs Guide to iOS (and Android...</td>\n",
       "      <td>9</td>\n",
       "      <td>2</td>\n",
       "    </tr>\n",
       "    <tr>\n",
       "      <th>1</th>\n",
       "      <td>RT @mention Line for iPad 2 is longer today th...</td>\n",
       "      <td>9</td>\n",
       "      <td>2</td>\n",
       "    </tr>\n",
       "    <tr>\n",
       "      <th>2</th>\n",
       "      <td>Crazy that Apple is opening a temporary store ...</td>\n",
       "      <td>9</td>\n",
       "      <td>2</td>\n",
       "    </tr>\n",
       "    <tr>\n",
       "      <th>3</th>\n",
       "      <td>The lesson from Google One Pass: In this digit...</td>\n",
       "      <td>9</td>\n",
       "      <td>2</td>\n",
       "    </tr>\n",
       "    <tr>\n",
       "      <th>4</th>\n",
       "      <td>RT @mention At the panel: &amp;quot;Your mom has a...</td>\n",
       "      <td>9</td>\n",
       "      <td>2</td>\n",
       "    </tr>\n",
       "    <tr>\n",
       "      <th>...</th>\n",
       "      <td>...</td>\n",
       "      <td>...</td>\n",
       "      <td>...</td>\n",
       "    </tr>\n",
       "    <tr>\n",
       "      <th>6359</th>\n",
       "      <td>Thanks @mention for hosting this event #sxsw #...</td>\n",
       "      <td>9</td>\n",
       "      <td>2</td>\n",
       "    </tr>\n",
       "    <tr>\n",
       "      <th>6360</th>\n",
       "      <td>SXSW iPhone app is awesome, but iPad app crash...</td>\n",
       "      <td>7</td>\n",
       "      <td>1</td>\n",
       "    </tr>\n",
       "    <tr>\n",
       "      <th>6361</th>\n",
       "      <td>RT @mention RT @mention Download 20+ free trac...</td>\n",
       "      <td>9</td>\n",
       "      <td>2</td>\n",
       "    </tr>\n",
       "    <tr>\n",
       "      <th>6362</th>\n",
       "      <td>OH at Texas Social Media Awards: 'You don't ne...</td>\n",
       "      <td>9</td>\n",
       "      <td>2</td>\n",
       "    </tr>\n",
       "    <tr>\n",
       "      <th>6363</th>\n",
       "      <td>#Google launching a &amp;quot;major&amp;quot; new soci...</td>\n",
       "      <td>9</td>\n",
       "      <td>2</td>\n",
       "    </tr>\n",
       "  </tbody>\n",
       "</table>\n",
       "<p>6352 rows × 3 columns</p>\n",
       "</div>"
      ],
      "text/plain": [
       "                                    Product_Description  Product_Type  \\\n",
       "0     The Web DesignerÛªs Guide to iOS (and Android...             9   \n",
       "1     RT @mention Line for iPad 2 is longer today th...             9   \n",
       "2     Crazy that Apple is opening a temporary store ...             9   \n",
       "3     The lesson from Google One Pass: In this digit...             9   \n",
       "4     RT @mention At the panel: &quot;Your mom has a...             9   \n",
       "...                                                 ...           ...   \n",
       "6359  Thanks @mention for hosting this event #sxsw #...             9   \n",
       "6360  SXSW iPhone app is awesome, but iPad app crash...             7   \n",
       "6361  RT @mention RT @mention Download 20+ free trac...             9   \n",
       "6362  OH at Texas Social Media Awards: 'You don't ne...             9   \n",
       "6363  #Google launching a &quot;major&quot; new soci...             9   \n",
       "\n",
       "      Sentiment  \n",
       "0             2  \n",
       "1             2  \n",
       "2             2  \n",
       "3             2  \n",
       "4             2  \n",
       "...         ...  \n",
       "6359          2  \n",
       "6360          1  \n",
       "6361          2  \n",
       "6362          2  \n",
       "6363          2  \n",
       "\n",
       "[6352 rows x 3 columns]"
      ]
     },
     "execution_count": 13,
     "metadata": {},
     "output_type": "execute_result"
    }
   ],
   "source": [
    "df_1.drop_duplicates(subset=['Product_Description'])"
   ]
  },
  {
   "cell_type": "code",
   "execution_count": 14,
   "id": "90edc86a",
   "metadata": {},
   "outputs": [
    {
     "data": {
      "text/plain": [
       "<bound method Series.duplicated of 0       The Web DesignerÛªs Guide to iOS (and Android...\n",
       "1       RT @mention Line for iPad 2 is longer today th...\n",
       "2       Crazy that Apple is opening a temporary store ...\n",
       "3       The lesson from Google One Pass: In this digit...\n",
       "4       RT @mention At the panel: &quot;Your mom has a...\n",
       "                              ...                        \n",
       "6359    Thanks @mention for hosting this event #sxsw #...\n",
       "6360    SXSW iPhone app is awesome, but iPad app crash...\n",
       "6361    RT @mention RT @mention Download 20+ free trac...\n",
       "6362    OH at Texas Social Media Awards: 'You don't ne...\n",
       "6363    #Google launching a &quot;major&quot; new soci...\n",
       "Name: Product_Description, Length: 6364, dtype: object>"
      ]
     },
     "execution_count": 14,
     "metadata": {},
     "output_type": "execute_result"
    }
   ],
   "source": [
    "df_1['Product_Description'].duplicated"
   ]
  },
  {
   "cell_type": "code",
   "execution_count": null,
   "id": "118b7ce6",
   "metadata": {},
   "outputs": [],
   "source": []
  },
  {
   "cell_type": "markdown",
   "id": "de93ed74",
   "metadata": {},
   "source": [
    "# Visualizations "
   ]
  },
  {
   "cell_type": "code",
   "execution_count": 15,
   "id": "2ce9379c",
   "metadata": {},
   "outputs": [
    {
     "data": {
      "image/png": "[encoded data removed]",
      "text/plain": [
       "<Figure size 360x360 with 1 Axes>"
      ]
     },
     "metadata": {
      "needs_background": "light"
     },
     "output_type": "display_data"
    }
   ],
   "source": [
    "# Lets Display Count on top of countplot\n",
    "\n",
    "fig, ax1 = plt.subplots(figsize=(5,5))\n",
    "graph = sns.countplot(ax=ax1,x='Product_Type', data=df)\n",
    "graph.set_xticklabels(graph.get_xticklabels(),rotation=90)\n",
    "for p in graph.patches:\n",
    "    height = p.get_height()\n",
    "    graph.text(p.get_x()+p.get_width()/2., height + 0.1,height ,ha=\"center\")"
   ]
  },
  {
   "cell_type": "code",
   "execution_count": 16,
   "id": "5cceddde",
   "metadata": {},
   "outputs": [
    {
     "data": {
      "image/png": "[encoded data removed]",
      "text/plain": [
       "<Figure size 432x288 with 1 Axes>"
      ]
     },
     "metadata": {
      "needs_background": "light"
     },
     "output_type": "display_data"
    }
   ],
   "source": [
    "sns.histplot(df_1['Sentiment'])\n",
    "plt.show()"
   ]
  },
  {
   "cell_type": "code",
   "execution_count": 17,
   "id": "5bfd8f0c",
   "metadata": {},
   "outputs": [
    {
     "data": {
      "image/png": "[encoded data removed]",
      "text/plain": [
       "<Figure size 360x360 with 1 Axes>"
      ]
     },
     "metadata": {
      "needs_background": "light"
     },
     "output_type": "display_data"
    }
   ],
   "source": [
    "# Lets Display Count on top of countplot\n",
    "\n",
    "fig, ax1 = plt.subplots(figsize=(5,5))\n",
    "graph = sns.countplot(ax=ax1,x='Sentiment', data=df)\n",
    "graph.set_xticklabels(graph.get_xticklabels(),rotation=90)\n",
    "for p in graph.patches:\n",
    "    height = p.get_height()\n",
    "    graph.text(p.get_x()+p.get_width()/2., height + 0.1,height ,ha=\"center\")"
   ]
  },
  {
   "cell_type": "code",
   "execution_count": 18,
   "id": "086be56c",
   "metadata": {},
   "outputs": [
    {
     "name": "stderr",
     "output_type": "stream",
     "text": [
      "No artists with labels found to put in legend.  Note that artists whose label start with an underscore are ignored when legend() is called with no argument.\n"
     ]
    },
    {
     "data": {
      "image/png": "[encoded data removed]",
      "text/plain": [
       "<Figure size 1700x500 with 2 Axes>"
      ]
     },
     "metadata": {
      "needs_background": "light"
     },
     "output_type": "display_data"
    }
   ],
   "source": [
    "fig,ax = plt.subplots(ncols=2,nrows=1,dpi=100,figsize=(17,5))\n",
    "sns.countplot(data= df,x=\"Product_Type\",hue=\"Sentiment\",edgecolor=\"black\",ax=ax[0],linewidth=2)\n",
    "ax[0].legend(loc=\"upper left\",labels=[\"Cannot say\",\"Negative\",\"Positive\",\"No sentiment\"])\n",
    "ax[0].set_title('Sentiment by product in tweets set',size=17)\n",
    "ax[0].set_xlabel(\"Product type\")\n",
    "\n",
    "sns.countplot(data = df,x=\"Sentiment\",edgecolor=\"black\",ax=ax[1],linewidth=2)\n",
    "ax[1].legend(loc=\"upper left\")\n",
    "ax[1].set_title('Sentiment distribution in tweets set',size=17)\n",
    "ax[1].set_xticklabels([\"Cannot say\",\"Negative\",\"Positive\",\"No sentiment\"])\n",
    "ax[1].set_xlabel(\"\")\n",
    "\n",
    "plt.show() "
   ]
  },
  {
   "cell_type": "markdown",
   "id": "ba2082a7",
   "metadata": {},
   "source": [
    "# Text Preprocessing"
   ]
  },
  {
   "cell_type": "code",
   "execution_count": 19,
   "id": "890f1a99",
   "metadata": {
    "scrolled": false
   },
   "outputs": [],
   "source": [
    "#to analyze the data we are a replicating the dataframe as amazon to store more columns but it won't distrub the main dataset\n",
    "df_analysis = df_1.copy()"
   ]
  },
  {
   "cell_type": "code",
   "execution_count": 20,
   "id": "16518268",
   "metadata": {},
   "outputs": [
    {
     "data": {
      "text/html": [
       "<div>\n",
       "<style scoped>\n",
       "    .dataframe tbody tr th:only-of-type {\n",
       "        vertical-align: middle;\n",
       "    }\n",
       "\n",
       "    .dataframe tbody tr th {\n",
       "        vertical-align: top;\n",
       "    }\n",
       "\n",
       "    .dataframe thead th {\n",
       "        text-align: right;\n",
       "    }\n",
       "</style>\n",
       "<table border=\"1\" class=\"dataframe\">\n",
       "  <thead>\n",
       "    <tr style=\"text-align: right;\">\n",
       "      <th></th>\n",
       "      <th>Product_Description</th>\n",
       "      <th>char_count</th>\n",
       "    </tr>\n",
       "  </thead>\n",
       "  <tbody>\n",
       "    <tr>\n",
       "      <th>0</th>\n",
       "      <td>The Web DesignerÛªs Guide to iOS (and Android...</td>\n",
       "      <td>89</td>\n",
       "    </tr>\n",
       "    <tr>\n",
       "      <th>1</th>\n",
       "      <td>RT @mention Line for iPad 2 is longer today th...</td>\n",
       "      <td>119</td>\n",
       "    </tr>\n",
       "    <tr>\n",
       "      <th>2</th>\n",
       "      <td>Crazy that Apple is opening a temporary store ...</td>\n",
       "      <td>111</td>\n",
       "    </tr>\n",
       "    <tr>\n",
       "      <th>3</th>\n",
       "      <td>The lesson from Google One Pass: In this digit...</td>\n",
       "      <td>137</td>\n",
       "    </tr>\n",
       "    <tr>\n",
       "      <th>4</th>\n",
       "      <td>RT @mention At the panel: &amp;quot;Your mom has a...</td>\n",
       "      <td>87</td>\n",
       "    </tr>\n",
       "    <tr>\n",
       "      <th>...</th>\n",
       "      <td>...</td>\n",
       "      <td>...</td>\n",
       "    </tr>\n",
       "    <tr>\n",
       "      <th>6359</th>\n",
       "      <td>Thanks @mention for hosting this event #sxsw #...</td>\n",
       "      <td>70</td>\n",
       "    </tr>\n",
       "    <tr>\n",
       "      <th>6360</th>\n",
       "      <td>SXSW iPhone app is awesome, but iPad app crash...</td>\n",
       "      <td>66</td>\n",
       "    </tr>\n",
       "    <tr>\n",
       "      <th>6361</th>\n",
       "      <td>RT @mention RT @mention Download 20+ free trac...</td>\n",
       "      <td>116</td>\n",
       "    </tr>\n",
       "    <tr>\n",
       "      <th>6362</th>\n",
       "      <td>OH at Texas Social Media Awards: 'You don't ne...</td>\n",
       "      <td>106</td>\n",
       "    </tr>\n",
       "    <tr>\n",
       "      <th>6363</th>\n",
       "      <td>#Google launching a &amp;quot;major&amp;quot; new soci...</td>\n",
       "      <td>96</td>\n",
       "    </tr>\n",
       "  </tbody>\n",
       "</table>\n",
       "<p>6364 rows × 2 columns</p>\n",
       "</div>"
      ],
      "text/plain": [
       "                                    Product_Description  char_count\n",
       "0     The Web DesignerÛªs Guide to iOS (and Android...          89\n",
       "1     RT @mention Line for iPad 2 is longer today th...         119\n",
       "2     Crazy that Apple is opening a temporary store ...         111\n",
       "3     The lesson from Google One Pass: In this digit...         137\n",
       "4     RT @mention At the panel: &quot;Your mom has a...          87\n",
       "...                                                 ...         ...\n",
       "6359  Thanks @mention for hosting this event #sxsw #...          70\n",
       "6360  SXSW iPhone app is awesome, but iPad app crash...          66\n",
       "6361  RT @mention RT @mention Download 20+ free trac...         116\n",
       "6362  OH at Texas Social Media Awards: 'You don't ne...         106\n",
       "6363  #Google launching a &quot;major&quot; new soci...          96\n",
       "\n",
       "[6364 rows x 2 columns]"
      ]
     },
     "execution_count": 20,
     "metadata": {},
     "output_type": "execute_result"
    }
   ],
   "source": [
    "#Count number of characters in single tweet\n",
    "df_analysis['char_count'] = df_analysis['Product_Description'].str.len() ## this also includes spaces\n",
    "df_analysis[['Product_Description','char_count']]"
   ]
  },
  {
   "cell_type": "code",
   "execution_count": 21,
   "id": "e128e478",
   "metadata": {
    "scrolled": true
   },
   "outputs": [
    {
     "data": {
      "text/html": [
       "<div>\n",
       "<style scoped>\n",
       "    .dataframe tbody tr th:only-of-type {\n",
       "        vertical-align: middle;\n",
       "    }\n",
       "\n",
       "    .dataframe tbody tr th {\n",
       "        vertical-align: top;\n",
       "    }\n",
       "\n",
       "    .dataframe thead th {\n",
       "        text-align: right;\n",
       "    }\n",
       "</style>\n",
       "<table border=\"1\" class=\"dataframe\">\n",
       "  <thead>\n",
       "    <tr style=\"text-align: right;\">\n",
       "      <th></th>\n",
       "      <th>Product_Description</th>\n",
       "      <th>punctuations</th>\n",
       "    </tr>\n",
       "  </thead>\n",
       "  <tbody>\n",
       "    <tr>\n",
       "      <th>0</th>\n",
       "      <td>The Web DesignerÛªs Guide to iOS (and Android...</td>\n",
       "      <td>0</td>\n",
       "    </tr>\n",
       "    <tr>\n",
       "      <th>1</th>\n",
       "      <td>RT @mention Line for iPad 2 is longer today th...</td>\n",
       "      <td>0</td>\n",
       "    </tr>\n",
       "    <tr>\n",
       "      <th>2</th>\n",
       "      <td>Crazy that Apple is opening a temporary store ...</td>\n",
       "      <td>0</td>\n",
       "    </tr>\n",
       "    <tr>\n",
       "      <th>3</th>\n",
       "      <td>The lesson from Google One Pass: In this digit...</td>\n",
       "      <td>0</td>\n",
       "    </tr>\n",
       "    <tr>\n",
       "      <th>4</th>\n",
       "      <td>RT @mention At the panel: &amp;quot;Your mom has a...</td>\n",
       "      <td>0</td>\n",
       "    </tr>\n",
       "    <tr>\n",
       "      <th>...</th>\n",
       "      <td>...</td>\n",
       "      <td>...</td>\n",
       "    </tr>\n",
       "    <tr>\n",
       "      <th>6359</th>\n",
       "      <td>Thanks @mention for hosting this event #sxsw #...</td>\n",
       "      <td>0</td>\n",
       "    </tr>\n",
       "    <tr>\n",
       "      <th>6360</th>\n",
       "      <td>SXSW iPhone app is awesome, but iPad app crash...</td>\n",
       "      <td>0</td>\n",
       "    </tr>\n",
       "    <tr>\n",
       "      <th>6361</th>\n",
       "      <td>RT @mention RT @mention Download 20+ free trac...</td>\n",
       "      <td>0</td>\n",
       "    </tr>\n",
       "    <tr>\n",
       "      <th>6362</th>\n",
       "      <td>OH at Texas Social Media Awards: 'You don't ne...</td>\n",
       "      <td>0</td>\n",
       "    </tr>\n",
       "    <tr>\n",
       "      <th>6363</th>\n",
       "      <td>#Google launching a &amp;quot;major&amp;quot; new soci...</td>\n",
       "      <td>0</td>\n",
       "    </tr>\n",
       "  </tbody>\n",
       "</table>\n",
       "<p>6364 rows × 2 columns</p>\n",
       "</div>"
      ],
      "text/plain": [
       "                                    Product_Description  punctuations\n",
       "0     The Web DesignerÛªs Guide to iOS (and Android...             0\n",
       "1     RT @mention Line for iPad 2 is longer today th...             0\n",
       "2     Crazy that Apple is opening a temporary store ...             0\n",
       "3     The lesson from Google One Pass: In this digit...             0\n",
       "4     RT @mention At the panel: &quot;Your mom has a...             0\n",
       "...                                                 ...           ...\n",
       "6359  Thanks @mention for hosting this event #sxsw #...             0\n",
       "6360  SXSW iPhone app is awesome, but iPad app crash...             0\n",
       "6361  RT @mention RT @mention Download 20+ free trac...             0\n",
       "6362  OH at Texas Social Media Awards: 'You don't ne...             0\n",
       "6363  #Google launching a &quot;major&quot; new soci...             0\n",
       "\n",
       "[6364 rows x 2 columns]"
      ]
     },
     "execution_count": 21,
     "metadata": {},
     "output_type": "execute_result"
    }
   ],
   "source": [
    "#count of special charaters in the text  \n",
    "df_analysis['punctuations'] = df_analysis['Product_Description'].apply(lambda x: len([x for x in x.split() if x.startswith('[!”#$%&’()*+,-./:;<=>?@[]^_`{|}~]')]))\n",
    "df_analysis[['Product_Description','punctuations']]"
   ]
  },
  {
   "cell_type": "code",
   "execution_count": 22,
   "id": "554a1555",
   "metadata": {
    "scrolled": true
   },
   "outputs": [
    {
     "data": {
      "text/html": [
       "<div>\n",
       "<style scoped>\n",
       "    .dataframe tbody tr th:only-of-type {\n",
       "        vertical-align: middle;\n",
       "    }\n",
       "\n",
       "    .dataframe tbody tr th {\n",
       "        vertical-align: top;\n",
       "    }\n",
       "\n",
       "    .dataframe thead th {\n",
       "        text-align: right;\n",
       "    }\n",
       "</style>\n",
       "<table border=\"1\" class=\"dataframe\">\n",
       "  <thead>\n",
       "    <tr style=\"text-align: right;\">\n",
       "      <th></th>\n",
       "      <th>Product_Description</th>\n",
       "      <th>numerics</th>\n",
       "    </tr>\n",
       "  </thead>\n",
       "  <tbody>\n",
       "    <tr>\n",
       "      <th>0</th>\n",
       "      <td>The Web DesignerÛªs Guide to iOS (and Android...</td>\n",
       "      <td>1</td>\n",
       "    </tr>\n",
       "    <tr>\n",
       "      <th>1</th>\n",
       "      <td>RT @mention Line for iPad 2 is longer today th...</td>\n",
       "      <td>1</td>\n",
       "    </tr>\n",
       "    <tr>\n",
       "      <th>2</th>\n",
       "      <td>Crazy that Apple is opening a temporary store ...</td>\n",
       "      <td>0</td>\n",
       "    </tr>\n",
       "    <tr>\n",
       "      <th>3</th>\n",
       "      <td>The lesson from Google One Pass: In this digit...</td>\n",
       "      <td>0</td>\n",
       "    </tr>\n",
       "    <tr>\n",
       "      <th>4</th>\n",
       "      <td>RT @mention At the panel: &amp;quot;Your mom has a...</td>\n",
       "      <td>0</td>\n",
       "    </tr>\n",
       "    <tr>\n",
       "      <th>...</th>\n",
       "      <td>...</td>\n",
       "      <td>...</td>\n",
       "    </tr>\n",
       "    <tr>\n",
       "      <th>6359</th>\n",
       "      <td>Thanks @mention for hosting this event #sxsw #...</td>\n",
       "      <td>0</td>\n",
       "    </tr>\n",
       "    <tr>\n",
       "      <th>6360</th>\n",
       "      <td>SXSW iPhone app is awesome, but iPad app crash...</td>\n",
       "      <td>0</td>\n",
       "    </tr>\n",
       "    <tr>\n",
       "      <th>6361</th>\n",
       "      <td>RT @mention RT @mention Download 20+ free trac...</td>\n",
       "      <td>0</td>\n",
       "    </tr>\n",
       "    <tr>\n",
       "      <th>6362</th>\n",
       "      <td>OH at Texas Social Media Awards: 'You don't ne...</td>\n",
       "      <td>0</td>\n",
       "    </tr>\n",
       "    <tr>\n",
       "      <th>6363</th>\n",
       "      <td>#Google launching a &amp;quot;major&amp;quot; new soci...</td>\n",
       "      <td>0</td>\n",
       "    </tr>\n",
       "  </tbody>\n",
       "</table>\n",
       "<p>6364 rows × 2 columns</p>\n",
       "</div>"
      ],
      "text/plain": [
       "                                    Product_Description  numerics\n",
       "0     The Web DesignerÛªs Guide to iOS (and Android...         1\n",
       "1     RT @mention Line for iPad 2 is longer today th...         1\n",
       "2     Crazy that Apple is opening a temporary store ...         0\n",
       "3     The lesson from Google One Pass: In this digit...         0\n",
       "4     RT @mention At the panel: &quot;Your mom has a...         0\n",
       "...                                                 ...       ...\n",
       "6359  Thanks @mention for hosting this event #sxsw #...         0\n",
       "6360  SXSW iPhone app is awesome, but iPad app crash...         0\n",
       "6361  RT @mention RT @mention Download 20+ free trac...         0\n",
       "6362  OH at Texas Social Media Awards: 'You don't ne...         0\n",
       "6363  #Google launching a &quot;major&quot; new soci...         0\n",
       "\n",
       "[6364 rows x 2 columns]"
      ]
     },
     "execution_count": 22,
     "metadata": {},
     "output_type": "execute_result"
    }
   ],
   "source": [
    "#Count number of numericals present in each row\n",
    "df_analysis['numerics'] = df_analysis['Product_Description'].apply(lambda x: len([x for x in x.split() if x.isdigit()]))\n",
    "df_analysis[['Product_Description','numerics']]"
   ]
  },
  {
   "cell_type": "code",
   "execution_count": 23,
   "id": "0cbcf80e",
   "metadata": {},
   "outputs": [
    {
     "data": {
      "text/html": [
       "<div>\n",
       "<style scoped>\n",
       "    .dataframe tbody tr th:only-of-type {\n",
       "        vertical-align: middle;\n",
       "    }\n",
       "\n",
       "    .dataframe tbody tr th {\n",
       "        vertical-align: top;\n",
       "    }\n",
       "\n",
       "    .dataframe thead th {\n",
       "        text-align: right;\n",
       "    }\n",
       "</style>\n",
       "<table border=\"1\" class=\"dataframe\">\n",
       "  <thead>\n",
       "    <tr style=\"text-align: right;\">\n",
       "      <th></th>\n",
       "      <th>Product_Description</th>\n",
       "      <th>stopwords</th>\n",
       "    </tr>\n",
       "  </thead>\n",
       "  <tbody>\n",
       "    <tr>\n",
       "      <th>0</th>\n",
       "      <td>The Web DesignerÛªs Guide to iOS (and Android...</td>\n",
       "      <td>1</td>\n",
       "    </tr>\n",
       "    <tr>\n",
       "      <th>1</th>\n",
       "      <td>RT @mention Line for iPad 2 is longer today th...</td>\n",
       "      <td>9</td>\n",
       "    </tr>\n",
       "    <tr>\n",
       "      <th>2</th>\n",
       "      <td>Crazy that Apple is opening a temporary store ...</td>\n",
       "      <td>7</td>\n",
       "    </tr>\n",
       "    <tr>\n",
       "      <th>3</th>\n",
       "      <td>The lesson from Google One Pass: In this digit...</td>\n",
       "      <td>4</td>\n",
       "    </tr>\n",
       "    <tr>\n",
       "      <th>4</th>\n",
       "      <td>RT @mention At the panel: &amp;quot;Your mom has a...</td>\n",
       "      <td>4</td>\n",
       "    </tr>\n",
       "    <tr>\n",
       "      <th>...</th>\n",
       "      <td>...</td>\n",
       "      <td>...</td>\n",
       "    </tr>\n",
       "    <tr>\n",
       "      <th>6359</th>\n",
       "      <td>Thanks @mention for hosting this event #sxsw #...</td>\n",
       "      <td>2</td>\n",
       "    </tr>\n",
       "    <tr>\n",
       "      <th>6360</th>\n",
       "      <td>SXSW iPhone app is awesome, but iPad app crash...</td>\n",
       "      <td>2</td>\n",
       "    </tr>\n",
       "    <tr>\n",
       "      <th>6361</th>\n",
       "      <td>RT @mention RT @mention Download 20+ free trac...</td>\n",
       "      <td>1</td>\n",
       "    </tr>\n",
       "    <tr>\n",
       "      <th>6362</th>\n",
       "      <td>OH at Texas Social Media Awards: 'You don't ne...</td>\n",
       "      <td>4</td>\n",
       "    </tr>\n",
       "    <tr>\n",
       "      <th>6363</th>\n",
       "      <td>#Google launching a &amp;quot;major&amp;quot; new soci...</td>\n",
       "      <td>5</td>\n",
       "    </tr>\n",
       "  </tbody>\n",
       "</table>\n",
       "<p>6364 rows × 2 columns</p>\n",
       "</div>"
      ],
      "text/plain": [
       "                                    Product_Description  stopwords\n",
       "0     The Web DesignerÛªs Guide to iOS (and Android...          1\n",
       "1     RT @mention Line for iPad 2 is longer today th...          9\n",
       "2     Crazy that Apple is opening a temporary store ...          7\n",
       "3     The lesson from Google One Pass: In this digit...          4\n",
       "4     RT @mention At the panel: &quot;Your mom has a...          4\n",
       "...                                                 ...        ...\n",
       "6359  Thanks @mention for hosting this event #sxsw #...          2\n",
       "6360  SXSW iPhone app is awesome, but iPad app crash...          2\n",
       "6361  RT @mention RT @mention Download 20+ free trac...          1\n",
       "6362  OH at Texas Social Media Awards: 'You don't ne...          4\n",
       "6363  #Google launching a &quot;major&quot; new soci...          5\n",
       "\n",
       "[6364 rows x 2 columns]"
      ]
     },
     "execution_count": 23,
     "metadata": {},
     "output_type": "execute_result"
    }
   ],
   "source": [
    "#number of stopwords in each tweet\n",
    "stop = stopwords.words('english')\n",
    "\n",
    "df_analysis['stopwords'] =df_analysis['Product_Description'].apply(lambda x: len([x for x in x.split() if x in stop]))\n",
    "df_analysis[['Product_Description','stopwords']]"
   ]
  },
  {
   "cell_type": "code",
   "execution_count": 24,
   "id": "d394cf0a",
   "metadata": {
    "scrolled": false
   },
   "outputs": [
    {
     "name": "stderr",
     "output_type": "stream",
     "text": [
      "[nltk_data] Downloading package stopwords to\n",
      "[nltk_data]     C:\\Users\\Admin\\AppData\\Roaming\\nltk_data...\n",
      "[nltk_data]   Package stopwords is already up-to-date!\n"
     ]
    },
    {
     "data": {
      "text/plain": [
       "True"
      ]
     },
     "execution_count": 24,
     "metadata": {},
     "output_type": "execute_result"
    }
   ],
   "source": [
    "nltk.download('stopwords')"
   ]
  },
  {
   "cell_type": "code",
   "execution_count": 25,
   "id": "4fda817a",
   "metadata": {},
   "outputs": [],
   "source": [
    "#converting all the upper case and sentence case in lower case \n",
    "df_1= df_1.apply(lambda x: x.astype(str).str.lower())"
   ]
  },
  {
   "cell_type": "markdown",
   "id": "b55ffd53",
   "metadata": {},
   "source": [
    "### Removing Stopwords"
   ]
  },
  {
   "cell_type": "code",
   "execution_count": 26,
   "id": "e050c95c",
   "metadata": {},
   "outputs": [],
   "source": [
    "# Remove Stopwords\n",
    "from nltk.corpus import stopwords\n",
    "my_stop_words=stopwords.words('english')\n",
    "\n",
    "sw_list = ['\\x92','rt','ye','yeah','haha','Yes','U0001F923','@mention']\n",
    "my_stop_words.extend(sw_list)\n"
   ]
  },
  {
   "cell_type": "code",
   "execution_count": 27,
   "id": "a59f6016",
   "metadata": {
    "scrolled": true
   },
   "outputs": [
    {
     "data": {
      "text/plain": [
       "0       web designerûªs guide ios (and android) apps,...\n",
       "1       line ipad 2 longer today yesterday. #sxsw // g...\n",
       "2       crazy apple opening temporary store austin tom...\n",
       "3       lesson google one pass: digital environment, u...\n",
       "4       panel: &quot;your mom ipad, designing boomers&...\n",
       "                              ...                        \n",
       "6359    thanks hosting event #sxsw #sxswi #iwantacr48 ...\n",
       "6360    sxsw iphone app awesome, ipad app crashes ever...\n",
       "6361    download 20+ free tracks music sampler includi...\n",
       "6362    oh texas social media awards: 'you need ask mo...\n",
       "6363    #google launching &quot;major&quot; new social...\n",
       "Name: Product_Description, Length: 6364, dtype: object"
      ]
     },
     "execution_count": 27,
     "metadata": {},
     "output_type": "execute_result"
    }
   ],
   "source": [
    "#removing all the stopwords in the column \n",
    "df_1['Product_Description'] = df_1['Product_Description'].apply(lambda x: \" \".join(x for x in x.split() if x not in my_stop_words))\n",
    "df_1['Product_Description']"
   ]
  },
  {
   "cell_type": "markdown",
   "id": "73e0c2f8",
   "metadata": {},
   "source": [
    "## Removing Numerics "
   ]
  },
  {
   "cell_type": "code",
   "execution_count": 28,
   "id": "59854011",
   "metadata": {
    "scrolled": true
   },
   "outputs": [
    {
     "data": {
      "text/plain": [
       "0       web designerûªs guide ios (and android) apps,...\n",
       "1       line ipad longer today yesterday. #sxsw // get...\n",
       "2       crazy apple opening temporary store austin tom...\n",
       "3       lesson google one pass: digital environment, u...\n",
       "4       panel: &quot;your mom ipad, designing boomers&...\n",
       "                              ...                        \n",
       "6359    thanks hosting event #sxsw #sxswi #iwantacr48 ...\n",
       "6360    sxsw iphone app awesome, ipad app crashes ever...\n",
       "6361    download 20+ free tracks music sampler includi...\n",
       "6362    oh texas social media awards: 'you need ask mo...\n",
       "6363    #google launching &quot;major&quot; new social...\n",
       "Name: Product_Description, Length: 6364, dtype: object"
      ]
     },
     "execution_count": 28,
     "metadata": {},
     "output_type": "execute_result"
    }
   ],
   "source": [
    "#removing number of numericals present in each row\n",
    "df_1['Product_Description'] = df_1['Product_Description'].apply(lambda x: \" \".join(x for x in x.split() if not x.isdigit()))\n",
    "df_1['Product_Description']"
   ]
  },
  {
   "cell_type": "code",
   "execution_count": 29,
   "id": "0f70bffb",
   "metadata": {},
   "outputs": [],
   "source": [
    "df_numerics=df_1.copy()"
   ]
  },
  {
   "cell_type": "code",
   "execution_count": 30,
   "id": "f82877be",
   "metadata": {
    "scrolled": true
   },
   "outputs": [
    {
     "data": {
      "text/html": [
       "<div>\n",
       "<style scoped>\n",
       "    .dataframe tbody tr th:only-of-type {\n",
       "        vertical-align: middle;\n",
       "    }\n",
       "\n",
       "    .dataframe tbody tr th {\n",
       "        vertical-align: top;\n",
       "    }\n",
       "\n",
       "    .dataframe thead th {\n",
       "        text-align: right;\n",
       "    }\n",
       "</style>\n",
       "<table border=\"1\" class=\"dataframe\">\n",
       "  <thead>\n",
       "    <tr style=\"text-align: right;\">\n",
       "      <th></th>\n",
       "      <th>Product_Description</th>\n",
       "      <th>numerics</th>\n",
       "    </tr>\n",
       "  </thead>\n",
       "  <tbody>\n",
       "    <tr>\n",
       "      <th>0</th>\n",
       "      <td>web designerûªs guide ios (and android) apps,...</td>\n",
       "      <td>0</td>\n",
       "    </tr>\n",
       "    <tr>\n",
       "      <th>1</th>\n",
       "      <td>line ipad longer today yesterday. #sxsw // get...</td>\n",
       "      <td>0</td>\n",
       "    </tr>\n",
       "    <tr>\n",
       "      <th>2</th>\n",
       "      <td>crazy apple opening temporary store austin tom...</td>\n",
       "      <td>0</td>\n",
       "    </tr>\n",
       "    <tr>\n",
       "      <th>3</th>\n",
       "      <td>lesson google one pass: digital environment, u...</td>\n",
       "      <td>0</td>\n",
       "    </tr>\n",
       "    <tr>\n",
       "      <th>4</th>\n",
       "      <td>panel: &amp;quot;your mom ipad, designing boomers&amp;...</td>\n",
       "      <td>0</td>\n",
       "    </tr>\n",
       "    <tr>\n",
       "      <th>...</th>\n",
       "      <td>...</td>\n",
       "      <td>...</td>\n",
       "    </tr>\n",
       "    <tr>\n",
       "      <th>6359</th>\n",
       "      <td>thanks hosting event #sxsw #sxswi #iwantacr48 ...</td>\n",
       "      <td>0</td>\n",
       "    </tr>\n",
       "    <tr>\n",
       "      <th>6360</th>\n",
       "      <td>sxsw iphone app awesome, ipad app crashes ever...</td>\n",
       "      <td>0</td>\n",
       "    </tr>\n",
       "    <tr>\n",
       "      <th>6361</th>\n",
       "      <td>download 20+ free tracks music sampler includi...</td>\n",
       "      <td>0</td>\n",
       "    </tr>\n",
       "    <tr>\n",
       "      <th>6362</th>\n",
       "      <td>oh texas social media awards: 'you need ask mo...</td>\n",
       "      <td>0</td>\n",
       "    </tr>\n",
       "    <tr>\n",
       "      <th>6363</th>\n",
       "      <td>#google launching &amp;quot;major&amp;quot; new social...</td>\n",
       "      <td>0</td>\n",
       "    </tr>\n",
       "  </tbody>\n",
       "</table>\n",
       "<p>6364 rows × 2 columns</p>\n",
       "</div>"
      ],
      "text/plain": [
       "                                    Product_Description  numerics\n",
       "0     web designerûªs guide ios (and android) apps,...         0\n",
       "1     line ipad longer today yesterday. #sxsw // get...         0\n",
       "2     crazy apple opening temporary store austin tom...         0\n",
       "3     lesson google one pass: digital environment, u...         0\n",
       "4     panel: &quot;your mom ipad, designing boomers&...         0\n",
       "...                                                 ...       ...\n",
       "6359  thanks hosting event #sxsw #sxswi #iwantacr48 ...         0\n",
       "6360  sxsw iphone app awesome, ipad app crashes ever...         0\n",
       "6361  download 20+ free tracks music sampler includi...         0\n",
       "6362  oh texas social media awards: 'you need ask mo...         0\n",
       "6363  #google launching &quot;major&quot; new social...         0\n",
       "\n",
       "[6364 rows x 2 columns]"
      ]
     },
     "execution_count": 30,
     "metadata": {},
     "output_type": "execute_result"
    }
   ],
   "source": [
    "# all numeric removed \n",
    "df_numerics['numerics'] = df_numerics['Product_Description'].apply(lambda x: len([x for x in x.split() if x.isdigit()]))\n",
    "df_numerics[['Product_Description','numerics']]"
   ]
  },
  {
   "cell_type": "code",
   "execution_count": 31,
   "id": "bdc2ae3e",
   "metadata": {},
   "outputs": [
    {
     "data": {
      "text/plain": [
       "0       web designerûªs guide ios (and android) apps,...\n",
       "1       line ipad longer today yesterday. #sxsw // get...\n",
       "2       crazy apple opening temporary store austin tom...\n",
       "3       lesson google one pass: digital environment, u...\n",
       "4       panel: &quot;your mom ipad, designing boomers&...\n",
       "                              ...                        \n",
       "6359    thanks hosting event #sxsw #sxswi #iwantacr48 ...\n",
       "6360    sxsw iphone app awesome, ipad app crashes ever...\n",
       "6361    download 20+ free tracks music sampler includi...\n",
       "6362    oh texas social media awards: 'you need ask mo...\n",
       "6363    #google launching &quot;major&quot; new social...\n",
       "Name: Product_Description, Length: 6364, dtype: object"
      ]
     },
     "execution_count": 31,
     "metadata": {},
     "output_type": "execute_result"
    }
   ],
   "source": [
    "df_1['Product_Description']"
   ]
  },
  {
   "cell_type": "code",
   "execution_count": 32,
   "id": "e295ac6d",
   "metadata": {
    "scrolled": true
   },
   "outputs": [
    {
     "data": {
      "text/plain": [
       "cheering             1\n",
       "selective            1\n",
       "#posterous_events    1\n",
       "follow,              1\n",
       "1:30-2:30pm.         1\n",
       "meetup,              1\n",
       "sns                  1\n",
       "95%,                 1\n",
       "now!!                1\n",
       "be...                1\n",
       "dtype: int64"
      ]
     },
     "execution_count": 32,
     "metadata": {},
     "output_type": "execute_result"
    }
   ],
   "source": [
    "#rare words counts\n",
    "freq = pd.Series(' '.join(df_1['Product_Description']).split()).value_counts()[-10:]\n",
    "freq"
   ]
  },
  {
   "cell_type": "code",
   "execution_count": 33,
   "id": "0427061f",
   "metadata": {},
   "outputs": [
    {
     "data": {
      "text/plain": [
       "0    web designerûªs guide ios (and android) apps,...\n",
       "1    line ipad longer today yesterday. #sxsw // get...\n",
       "2    crazy apple opening temporary store austin tom...\n",
       "3    lesson google one pass: digital environment, u...\n",
       "4    panel: &quot;your mom ipad, designing boomers&...\n",
       "Name: Product_Description, dtype: object"
      ]
     },
     "execution_count": 33,
     "metadata": {},
     "output_type": "execute_result"
    }
   ],
   "source": [
    "#rare words removal\n",
    "freq = list(freq.index)\n",
    "df_1['Product_Description'] = df_1['Product_Description'].apply(lambda x: \" \".join(x for x in x.split() if x not in freq))\n",
    "df_1['Product_Description'].head()"
   ]
  },
  {
   "cell_type": "code",
   "execution_count": 34,
   "id": "f79f5fa9",
   "metadata": {
    "scrolled": true
   },
   "outputs": [
    {
     "data": {
      "text/html": [
       "<div>\n",
       "<style scoped>\n",
       "    .dataframe tbody tr th:only-of-type {\n",
       "        vertical-align: middle;\n",
       "    }\n",
       "\n",
       "    .dataframe tbody tr th {\n",
       "        vertical-align: top;\n",
       "    }\n",
       "\n",
       "    .dataframe thead th {\n",
       "        text-align: right;\n",
       "    }\n",
       "</style>\n",
       "<table border=\"1\" class=\"dataframe\">\n",
       "  <thead>\n",
       "    <tr style=\"text-align: right;\">\n",
       "      <th></th>\n",
       "      <th>Product_Description</th>\n",
       "      <th>Product_Type</th>\n",
       "      <th>Sentiment</th>\n",
       "    </tr>\n",
       "  </thead>\n",
       "  <tbody>\n",
       "    <tr>\n",
       "      <th>0</th>\n",
       "      <td>web designerûªs guide ios (and android) apps,...</td>\n",
       "      <td>9</td>\n",
       "      <td>2</td>\n",
       "    </tr>\n",
       "    <tr>\n",
       "      <th>1</th>\n",
       "      <td>line ipad longer today yesterday. #sxsw // get...</td>\n",
       "      <td>9</td>\n",
       "      <td>2</td>\n",
       "    </tr>\n",
       "    <tr>\n",
       "      <th>2</th>\n",
       "      <td>crazy apple opening temporary store austin tom...</td>\n",
       "      <td>9</td>\n",
       "      <td>2</td>\n",
       "    </tr>\n",
       "    <tr>\n",
       "      <th>3</th>\n",
       "      <td>lesson google one pass: digital environment, u...</td>\n",
       "      <td>9</td>\n",
       "      <td>2</td>\n",
       "    </tr>\n",
       "    <tr>\n",
       "      <th>4</th>\n",
       "      <td>panel: &amp;quot;your mom ipad, designing boomers&amp;...</td>\n",
       "      <td>9</td>\n",
       "      <td>2</td>\n",
       "    </tr>\n",
       "    <tr>\n",
       "      <th>...</th>\n",
       "      <td>...</td>\n",
       "      <td>...</td>\n",
       "      <td>...</td>\n",
       "    </tr>\n",
       "    <tr>\n",
       "      <th>6359</th>\n",
       "      <td>thanks hosting event #sxsw #sxswi #iwantacr48 ...</td>\n",
       "      <td>9</td>\n",
       "      <td>2</td>\n",
       "    </tr>\n",
       "    <tr>\n",
       "      <th>6360</th>\n",
       "      <td>sxsw iphone app awesome, ipad app crashes ever...</td>\n",
       "      <td>7</td>\n",
       "      <td>1</td>\n",
       "    </tr>\n",
       "    <tr>\n",
       "      <th>6361</th>\n",
       "      <td>download 20+ free tracks music sampler includi...</td>\n",
       "      <td>9</td>\n",
       "      <td>2</td>\n",
       "    </tr>\n",
       "    <tr>\n",
       "      <th>6362</th>\n",
       "      <td>oh texas social media awards: 'you need ask mo...</td>\n",
       "      <td>9</td>\n",
       "      <td>2</td>\n",
       "    </tr>\n",
       "    <tr>\n",
       "      <th>6363</th>\n",
       "      <td>#google launching &amp;quot;major&amp;quot; new social...</td>\n",
       "      <td>9</td>\n",
       "      <td>2</td>\n",
       "    </tr>\n",
       "  </tbody>\n",
       "</table>\n",
       "<p>6364 rows × 3 columns</p>\n",
       "</div>"
      ],
      "text/plain": [
       "                                    Product_Description Product_Type Sentiment\n",
       "0     web designerûªs guide ios (and android) apps,...            9         2\n",
       "1     line ipad longer today yesterday. #sxsw // get...            9         2\n",
       "2     crazy apple opening temporary store austin tom...            9         2\n",
       "3     lesson google one pass: digital environment, u...            9         2\n",
       "4     panel: &quot;your mom ipad, designing boomers&...            9         2\n",
       "...                                                 ...          ...       ...\n",
       "6359  thanks hosting event #sxsw #sxswi #iwantacr48 ...            9         2\n",
       "6360  sxsw iphone app awesome, ipad app crashes ever...            7         1\n",
       "6361  download 20+ free tracks music sampler includi...            9         2\n",
       "6362  oh texas social media awards: 'you need ask mo...            9         2\n",
       "6363  #google launching &quot;major&quot; new social...            9         2\n",
       "\n",
       "[6364 rows x 3 columns]"
      ]
     },
     "execution_count": 34,
     "metadata": {},
     "output_type": "execute_result"
    }
   ],
   "source": [
    "df_1"
   ]
  },
  {
   "cell_type": "code",
   "execution_count": 35,
   "id": "89c97448",
   "metadata": {
    "scrolled": false
   },
   "outputs": [
    {
     "data": {
      "text/plain": [
       "0"
      ]
     },
     "execution_count": 35,
     "metadata": {},
     "output_type": "execute_result"
    }
   ],
   "source": [
    "df_1['Product_Description'].isnull().sum()"
   ]
  },
  {
   "cell_type": "code",
   "execution_count": 36,
   "id": "f707d530",
   "metadata": {},
   "outputs": [],
   "source": [
    "#removing all the emojis present in the text \n",
    "def remove_emoji(text):\n",
    "    emoji_pattern = re.compile(\"[\"\n",
    "                           u\"\\U0001F600-\\U0001F64F\"  # emoticons\n",
    "                           u\"\\U0001F300-\\U0001F5FF\"  # symbols & pictographs\n",
    "                           u\"\\U0001F680-\\U0001F6FF\"  # transport & map symbols\n",
    "                           u\"\\U0001F1E0-\\U0001F1FF\"  # flags \n",
    "                           u\"\\U00002702-\\U000027B0\"\n",
    "                           u\"\\U000024C2-\\U0001F251\"\n",
    "                           \"]+\", flags=re.UNICODE)\n",
    "    return emoji_pattern.sub(r'', text)\n",
    "df_1['Product_Description'] = df_1['Product_Description'].apply(lambda x: remove_emoji(x))\n"
   ]
  },
  {
   "cell_type": "code",
   "execution_count": 37,
   "id": "1858825f",
   "metadata": {
    "scrolled": false
   },
   "outputs": [
    {
     "data": {
      "text/plain": [
       "0       web designerûªs guide ios (and android) apps,...\n",
       "1       line ipad longer today yesterday. #sxsw // get...\n",
       "2       crazy apple opening temporary store austin tom...\n",
       "3       lesson google one pass: digital environment, u...\n",
       "4       panel: &quot;your mom ipad, designing boomers&...\n",
       "                              ...                        \n",
       "6359    thanks hosting event #sxsw #sxswi #iwantacr48 ...\n",
       "6360    sxsw iphone app awesome, ipad app crashes ever...\n",
       "6361    download 20+ free tracks music sampler includi...\n",
       "6362    oh texas social media awards: 'you need ask mo...\n",
       "6363    #google launching &quot;major&quot; new social...\n",
       "Name: Product_Description, Length: 6364, dtype: object"
      ]
     },
     "execution_count": 37,
     "metadata": {},
     "output_type": "execute_result"
    }
   ],
   "source": [
    "df_1['Product_Description'] "
   ]
  },
  {
   "cell_type": "markdown",
   "id": "06a7fec2",
   "metadata": {},
   "source": [
    "### Stemming "
   ]
  },
  {
   "cell_type": "code",
   "execution_count": 38,
   "id": "c4cae411",
   "metadata": {
    "scrolled": true
   },
   "outputs": [
    {
     "data": {
      "text/plain": [
       "0    web designerûª guid io (and android) apps, to...\n",
       "1    line ipad longer today yesterday. #sxsw // get...\n",
       "2    crazi appl open temporari store austin tomorro...\n",
       "3    lesson googl one pass: digit environment, user...\n",
       "4    panel: &quot;your mom ipad, design boomers&quo...\n",
       "Name: Product_Description, dtype: object"
      ]
     },
     "execution_count": 38,
     "metadata": {},
     "output_type": "execute_result"
    }
   ],
   "source": [
    "from nltk.stem import PorterStemmer\n",
    "st = PorterStemmer()\n",
    "df_1['Product_Description'] [:5].apply(lambda x: \" \".join([st.stem(word) for word in x.split()]))"
   ]
  },
  {
   "cell_type": "code",
   "execution_count": 39,
   "id": "ba8f8a42",
   "metadata": {},
   "outputs": [],
   "source": [
    "from textblob import Word\n",
    "from textblob import TextBlob"
   ]
  },
  {
   "cell_type": "markdown",
   "id": "9e8157ff",
   "metadata": {},
   "source": [
    "### Lemmatization"
   ]
  },
  {
   "cell_type": "code",
   "execution_count": 40,
   "id": "c2bf63e9",
   "metadata": {},
   "outputs": [
    {
     "name": "stderr",
     "output_type": "stream",
     "text": [
      "[nltk_data] Downloading package omw-1.4 to\n",
      "[nltk_data]     C:\\Users\\Admin\\AppData\\Roaming\\nltk_data...\n",
      "[nltk_data]   Package omw-1.4 is already up-to-date!\n"
     ]
    },
    {
     "data": {
      "text/plain": [
       "True"
      ]
     },
     "execution_count": 40,
     "metadata": {},
     "output_type": "execute_result"
    }
   ],
   "source": [
    "nltk.download('omw-1.4')"
   ]
  },
  {
   "cell_type": "code",
   "execution_count": 41,
   "id": "a9fd244b",
   "metadata": {},
   "outputs": [
    {
     "name": "stderr",
     "output_type": "stream",
     "text": [
      "[nltk_data] Downloading package wordnet to\n",
      "[nltk_data]     C:\\Users\\Admin\\AppData\\Roaming\\nltk_data...\n",
      "[nltk_data]   Package wordnet is already up-to-date!\n"
     ]
    },
    {
     "data": {
      "text/plain": [
       "True"
      ]
     },
     "execution_count": 41,
     "metadata": {},
     "output_type": "execute_result"
    }
   ],
   "source": [
    "import nltk\n",
    "nltk.download('wordnet')"
   ]
  },
  {
   "cell_type": "code",
   "execution_count": 42,
   "id": "6fdd5687",
   "metadata": {
    "scrolled": false
   },
   "outputs": [
    {
     "data": {
      "text/plain": [
       "0    web designerûªs guide io (and android) apps, ...\n",
       "1    line ipad longer today yesterday. #sxsw // get...\n",
       "2    crazy apple opening temporary store austin tom...\n",
       "3    lesson google one pass: digital environment, u...\n",
       "4    panel: &quot;your mom ipad, designing boomers&...\n",
       "Name: Product_Description, dtype: object"
      ]
     },
     "execution_count": 42,
     "metadata": {},
     "output_type": "execute_result"
    }
   ],
   "source": [
    "df_1['Product_Description']  = df_1['Product_Description'] .apply(lambda x: \" \".join([Word(word).lemmatize() for word in x.split()]))\n",
    "df_1['Product_Description'] .head()"
   ]
  },
  {
   "cell_type": "markdown",
   "id": "4fb83649",
   "metadata": {},
   "source": [
    "### Sentiment Analysis for each review/description"
   ]
  },
  {
   "cell_type": "code",
   "execution_count": 43,
   "id": "1c378bd0",
   "metadata": {},
   "outputs": [
    {
     "data": {
      "text/plain": [
       "0                                    (0.0, 0.0)\n",
       "1                                    (0.3, 0.2)\n",
       "2                                   (-0.6, 0.9)\n",
       "3                                    (0.0, 0.0)\n",
       "4                                    (0.0, 0.0)\n",
       "5                                   (-0.5, 0.7)\n",
       "6                                    (0.0, 0.0)\n",
       "7    (0.041666666666666664, 0.3923076923076923)\n",
       "8     (0.05656565656565656, 0.5070707070707071)\n",
       "9                                    (0.7, 0.7)\n",
       "Name: Product_Description, dtype: object"
      ]
     },
     "execution_count": 43,
     "metadata": {},
     "output_type": "execute_result"
    }
   ],
   "source": [
    "df_1['Product_Description'][:10].apply(lambda x: TextBlob(x).sentiment)\n"
   ]
  },
  {
   "cell_type": "code",
   "execution_count": 44,
   "id": "539dbdd2",
   "metadata": {
    "scrolled": true
   },
   "outputs": [
    {
     "data": {
      "text/html": [
       "<div>\n",
       "<style scoped>\n",
       "    .dataframe tbody tr th:only-of-type {\n",
       "        vertical-align: middle;\n",
       "    }\n",
       "\n",
       "    .dataframe tbody tr th {\n",
       "        vertical-align: top;\n",
       "    }\n",
       "\n",
       "    .dataframe thead th {\n",
       "        text-align: right;\n",
       "    }\n",
       "</style>\n",
       "<table border=\"1\" class=\"dataframe\">\n",
       "  <thead>\n",
       "    <tr style=\"text-align: right;\">\n",
       "      <th></th>\n",
       "      <th>Product_Description</th>\n",
       "      <th>sentiment</th>\n",
       "    </tr>\n",
       "  </thead>\n",
       "  <tbody>\n",
       "    <tr>\n",
       "      <th>0</th>\n",
       "      <td>web designerûªs guide io (and android) apps, ...</td>\n",
       "      <td>0.000000</td>\n",
       "    </tr>\n",
       "    <tr>\n",
       "      <th>1</th>\n",
       "      <td>line ipad longer today yesterday. #sxsw // get...</td>\n",
       "      <td>0.300000</td>\n",
       "    </tr>\n",
       "    <tr>\n",
       "      <th>2</th>\n",
       "      <td>crazy apple opening temporary store austin tom...</td>\n",
       "      <td>-0.600000</td>\n",
       "    </tr>\n",
       "    <tr>\n",
       "      <th>3</th>\n",
       "      <td>lesson google one pass: digital environment, u...</td>\n",
       "      <td>0.000000</td>\n",
       "    </tr>\n",
       "    <tr>\n",
       "      <th>4</th>\n",
       "      <td>panel: &amp;quot;your mom ipad, designing boomers&amp;...</td>\n",
       "      <td>0.000000</td>\n",
       "    </tr>\n",
       "    <tr>\n",
       "      <th>...</th>\n",
       "      <td>...</td>\n",
       "      <td>...</td>\n",
       "    </tr>\n",
       "    <tr>\n",
       "      <th>6359</th>\n",
       "      <td>thanks hosting event #sxsw #sxswi #iwantacr48 ...</td>\n",
       "      <td>0.200000</td>\n",
       "    </tr>\n",
       "    <tr>\n",
       "      <th>6360</th>\n",
       "      <td>sxsw iphone app awesome, ipad app crash every ...</td>\n",
       "      <td>1.000000</td>\n",
       "    </tr>\n",
       "    <tr>\n",
       "      <th>6361</th>\n",
       "      <td>download 20+ free track music sampler includin...</td>\n",
       "      <td>0.500000</td>\n",
       "    </tr>\n",
       "    <tr>\n",
       "      <th>6362</th>\n",
       "      <td>oh texas social medium awards: 'you need ask m...</td>\n",
       "      <td>0.033333</td>\n",
       "    </tr>\n",
       "    <tr>\n",
       "      <th>6363</th>\n",
       "      <td>#google launching &amp;quot;major&amp;quot; new social...</td>\n",
       "      <td>0.084848</td>\n",
       "    </tr>\n",
       "  </tbody>\n",
       "</table>\n",
       "<p>6364 rows × 2 columns</p>\n",
       "</div>"
      ],
      "text/plain": [
       "                                    Product_Description  sentiment\n",
       "0     web designerûªs guide io (and android) apps, ...   0.000000\n",
       "1     line ipad longer today yesterday. #sxsw // get...   0.300000\n",
       "2     crazy apple opening temporary store austin tom...  -0.600000\n",
       "3     lesson google one pass: digital environment, u...   0.000000\n",
       "4     panel: &quot;your mom ipad, designing boomers&...   0.000000\n",
       "...                                                 ...        ...\n",
       "6359  thanks hosting event #sxsw #sxswi #iwantacr48 ...   0.200000\n",
       "6360  sxsw iphone app awesome, ipad app crash every ...   1.000000\n",
       "6361  download 20+ free track music sampler includin...   0.500000\n",
       "6362  oh texas social medium awards: 'you need ask m...   0.033333\n",
       "6363  #google launching &quot;major&quot; new social...   0.084848\n",
       "\n",
       "[6364 rows x 2 columns]"
      ]
     },
     "execution_count": 44,
     "metadata": {},
     "output_type": "execute_result"
    }
   ],
   "source": [
    "df_1['sentiment'] = df_1['Product_Description'].apply(lambda x: TextBlob(x).sentiment[0] )\n",
    "df_1[['Product_Description','sentiment']]"
   ]
  },
  {
   "cell_type": "code",
   "execution_count": 45,
   "id": "1b1079c2",
   "metadata": {},
   "outputs": [
    {
     "data": {
      "text/html": [
       "<div>\n",
       "<style scoped>\n",
       "    .dataframe tbody tr th:only-of-type {\n",
       "        vertical-align: middle;\n",
       "    }\n",
       "\n",
       "    .dataframe tbody tr th {\n",
       "        vertical-align: top;\n",
       "    }\n",
       "\n",
       "    .dataframe thead th {\n",
       "        text-align: right;\n",
       "    }\n",
       "</style>\n",
       "<table border=\"1\" class=\"dataframe\">\n",
       "  <thead>\n",
       "    <tr style=\"text-align: right;\">\n",
       "      <th></th>\n",
       "      <th>Product_Description</th>\n",
       "      <th>Product_Type</th>\n",
       "      <th>Sentiment</th>\n",
       "      <th>sentiment</th>\n",
       "    </tr>\n",
       "  </thead>\n",
       "  <tbody>\n",
       "    <tr>\n",
       "      <th>0</th>\n",
       "      <td>web designerûªs guide io (and android) apps, ...</td>\n",
       "      <td>9</td>\n",
       "      <td>2</td>\n",
       "      <td>0.000000</td>\n",
       "    </tr>\n",
       "    <tr>\n",
       "      <th>1</th>\n",
       "      <td>line ipad longer today yesterday. #sxsw // get...</td>\n",
       "      <td>9</td>\n",
       "      <td>2</td>\n",
       "      <td>0.300000</td>\n",
       "    </tr>\n",
       "    <tr>\n",
       "      <th>2</th>\n",
       "      <td>crazy apple opening temporary store austin tom...</td>\n",
       "      <td>9</td>\n",
       "      <td>2</td>\n",
       "      <td>-0.600000</td>\n",
       "    </tr>\n",
       "    <tr>\n",
       "      <th>3</th>\n",
       "      <td>lesson google one pass: digital environment, u...</td>\n",
       "      <td>9</td>\n",
       "      <td>2</td>\n",
       "      <td>0.000000</td>\n",
       "    </tr>\n",
       "    <tr>\n",
       "      <th>4</th>\n",
       "      <td>panel: &amp;quot;your mom ipad, designing boomers&amp;...</td>\n",
       "      <td>9</td>\n",
       "      <td>2</td>\n",
       "      <td>0.000000</td>\n",
       "    </tr>\n",
       "    <tr>\n",
       "      <th>...</th>\n",
       "      <td>...</td>\n",
       "      <td>...</td>\n",
       "      <td>...</td>\n",
       "      <td>...</td>\n",
       "    </tr>\n",
       "    <tr>\n",
       "      <th>6359</th>\n",
       "      <td>thanks hosting event #sxsw #sxswi #iwantacr48 ...</td>\n",
       "      <td>9</td>\n",
       "      <td>2</td>\n",
       "      <td>0.200000</td>\n",
       "    </tr>\n",
       "    <tr>\n",
       "      <th>6360</th>\n",
       "      <td>sxsw iphone app awesome, ipad app crash every ...</td>\n",
       "      <td>7</td>\n",
       "      <td>1</td>\n",
       "      <td>1.000000</td>\n",
       "    </tr>\n",
       "    <tr>\n",
       "      <th>6361</th>\n",
       "      <td>download 20+ free track music sampler includin...</td>\n",
       "      <td>9</td>\n",
       "      <td>2</td>\n",
       "      <td>0.500000</td>\n",
       "    </tr>\n",
       "    <tr>\n",
       "      <th>6362</th>\n",
       "      <td>oh texas social medium awards: 'you need ask m...</td>\n",
       "      <td>9</td>\n",
       "      <td>2</td>\n",
       "      <td>0.033333</td>\n",
       "    </tr>\n",
       "    <tr>\n",
       "      <th>6363</th>\n",
       "      <td>#google launching &amp;quot;major&amp;quot; new social...</td>\n",
       "      <td>9</td>\n",
       "      <td>2</td>\n",
       "      <td>0.084848</td>\n",
       "    </tr>\n",
       "  </tbody>\n",
       "</table>\n",
       "<p>6364 rows × 4 columns</p>\n",
       "</div>"
      ],
      "text/plain": [
       "                                    Product_Description Product_Type  \\\n",
       "0     web designerûªs guide io (and android) apps, ...            9   \n",
       "1     line ipad longer today yesterday. #sxsw // get...            9   \n",
       "2     crazy apple opening temporary store austin tom...            9   \n",
       "3     lesson google one pass: digital environment, u...            9   \n",
       "4     panel: &quot;your mom ipad, designing boomers&...            9   \n",
       "...                                                 ...          ...   \n",
       "6359  thanks hosting event #sxsw #sxswi #iwantacr48 ...            9   \n",
       "6360  sxsw iphone app awesome, ipad app crash every ...            7   \n",
       "6361  download 20+ free track music sampler includin...            9   \n",
       "6362  oh texas social medium awards: 'you need ask m...            9   \n",
       "6363  #google launching &quot;major&quot; new social...            9   \n",
       "\n",
       "     Sentiment  sentiment  \n",
       "0            2   0.000000  \n",
       "1            2   0.300000  \n",
       "2            2  -0.600000  \n",
       "3            2   0.000000  \n",
       "4            2   0.000000  \n",
       "...        ...        ...  \n",
       "6359         2   0.200000  \n",
       "6360         1   1.000000  \n",
       "6361         2   0.500000  \n",
       "6362         2   0.033333  \n",
       "6363         2   0.084848  \n",
       "\n",
       "[6364 rows x 4 columns]"
      ]
     },
     "execution_count": 45,
     "metadata": {},
     "output_type": "execute_result"
    }
   ],
   "source": [
    "df_1"
   ]
  },
  {
   "cell_type": "code",
   "execution_count": null,
   "id": "d991e13a",
   "metadata": {},
   "outputs": [],
   "source": []
  },
  {
   "cell_type": "markdown",
   "id": "07d5d333",
   "metadata": {},
   "source": [
    "## Generate Positive Reviews Word Cloud"
   ]
  },
  {
   "cell_type": "code",
   "execution_count": 46,
   "id": "bd5ee77b",
   "metadata": {},
   "outputs": [],
   "source": [
    "# from wordcloud import WordCloud\n",
    "# wc = WordCloud(width=500,height=500,min_font_size=10,max_words=300,background_color='black')"
   ]
  },
  {
   "cell_type": "code",
   "execution_count": 47,
   "id": "34d20249",
   "metadata": {},
   "outputs": [],
   "source": [
    "# Positive = wc.generate(df_1[df_1['Polarity']>0]['Product_Description'].str.cat(sep=\"\"))"
   ]
  },
  {
   "cell_type": "code",
   "execution_count": 48,
   "id": "e573a606",
   "metadata": {
    "scrolled": true
   },
   "outputs": [],
   "source": [
    "# plt.figure(figsize=(10,10))\n",
    "# plt.imshow(Positive)\n",
    "# plt.title('Positive Reviews')\n",
    "# plt.show()"
   ]
  },
  {
   "cell_type": "markdown",
   "id": "49477b6e",
   "metadata": {},
   "source": [
    "## Generate Negative Reviews Word Cloud"
   ]
  },
  {
   "cell_type": "code",
   "execution_count": 49,
   "id": "24ecfa92",
   "metadata": {
    "scrolled": true
   },
   "outputs": [],
   "source": [
    "# Negative=wc.generate(df_1[df_1['Polarity']<0]['Product_Description'].str.cat(sep=\"\"))"
   ]
  },
  {
   "cell_type": "code",
   "execution_count": 50,
   "id": "89978288",
   "metadata": {
    "scrolled": true
   },
   "outputs": [],
   "source": [
    "# plt.figure(figsize=(10,10))\n",
    "# plt.imshow(Negative)\n",
    "# plt.title('Negative Reviews')\n",
    "# plt.show()"
   ]
  },
  {
   "cell_type": "markdown",
   "id": "362e3f85",
   "metadata": {},
   "source": [
    "## Generate Neutral Reviews Word Cloud"
   ]
  },
  {
   "cell_type": "code",
   "execution_count": 51,
   "id": "799f2cd6",
   "metadata": {
    "scrolled": true
   },
   "outputs": [],
   "source": [
    "# Neutral = wc.generate(df_1[df_1['Polarity']==0]['Product_Description'].str.cat(sep=\"\"))"
   ]
  },
  {
   "cell_type": "code",
   "execution_count": 52,
   "id": "cf60d15b",
   "metadata": {
    "scrolled": true
   },
   "outputs": [],
   "source": [
    "# plt.figure(figsize=(10,10))\n",
    "# plt.imshow(Neutral)\n",
    "# plt.title('Neutral Reviews')\n",
    "# plt.show()"
   ]
  },
  {
   "cell_type": "code",
   "execution_count": null,
   "id": "a57cbdb1",
   "metadata": {},
   "outputs": [],
   "source": []
  },
  {
   "cell_type": "code",
   "execution_count": null,
   "id": "b56f09ad",
   "metadata": {},
   "outputs": [],
   "source": []
  },
  {
   "cell_type": "markdown",
   "id": "7a0891d7",
   "metadata": {},
   "source": [
    "# Model Building "
   ]
  },
  {
   "cell_type": "code",
   "execution_count": 53,
   "id": "ddceb210",
   "metadata": {},
   "outputs": [],
   "source": [
    "from sklearn.feature_extraction.text import CountVectorizer,TfidfVectorizer\n",
    "cv=CountVectorizer()\n",
    "vectorizer=TfidfVectorizer(max_features=10000)"
   ]
  },
  {
   "cell_type": "code",
   "execution_count": 54,
   "id": "c17f509e",
   "metadata": {},
   "outputs": [],
   "source": [
    "x=vectorizer.fit_transform(df_1['Product_Description'],df_1['Product_Type'])"
   ]
  },
  {
   "cell_type": "code",
   "execution_count": 55,
   "id": "47b4e79d",
   "metadata": {
    "scrolled": true
   },
   "outputs": [
    {
     "data": {
      "text/plain": [
       "(6364, 7952)"
      ]
     },
     "execution_count": 55,
     "metadata": {},
     "output_type": "execute_result"
    }
   ],
   "source": [
    "#rows, reviews\n",
    "x.shape"
   ]
  },
  {
   "cell_type": "code",
   "execution_count": 56,
   "id": "367b29e8",
   "metadata": {},
   "outputs": [
    {
     "data": {
      "text/plain": [
       "<6364x7952 sparse matrix of type '<class 'numpy.float64'>'\n",
       "\twith 70765 stored elements in Compressed Sparse Row format>"
      ]
     },
     "execution_count": 56,
     "metadata": {},
     "output_type": "execute_result"
    }
   ],
   "source": [
    "x"
   ]
  },
  {
   "cell_type": "code",
   "execution_count": null,
   "id": "e294f91f",
   "metadata": {},
   "outputs": [],
   "source": []
  },
  {
   "cell_type": "markdown",
   "id": "bdfc786f",
   "metadata": {},
   "source": [
    "### LabelEncoder for classification Model"
   ]
  },
  {
   "cell_type": "code",
   "execution_count": 57,
   "id": "b669742a",
   "metadata": {},
   "outputs": [],
   "source": [
    "from sklearn.preprocessing import LabelEncoder\n",
    "encoder=LabelEncoder()"
   ]
  },
  {
   "cell_type": "code",
   "execution_count": 58,
   "id": "0658c601",
   "metadata": {},
   "outputs": [
    {
     "data": {
      "text/html": [
       "<div>\n",
       "<style scoped>\n",
       "    .dataframe tbody tr th:only-of-type {\n",
       "        vertical-align: middle;\n",
       "    }\n",
       "\n",
       "    .dataframe tbody tr th {\n",
       "        vertical-align: top;\n",
       "    }\n",
       "\n",
       "    .dataframe thead th {\n",
       "        text-align: right;\n",
       "    }\n",
       "</style>\n",
       "<table border=\"1\" class=\"dataframe\">\n",
       "  <thead>\n",
       "    <tr style=\"text-align: right;\">\n",
       "      <th></th>\n",
       "      <th>Product_Description</th>\n",
       "      <th>Product_Type</th>\n",
       "      <th>Sentiment</th>\n",
       "      <th>sentiment</th>\n",
       "      <th>target</th>\n",
       "    </tr>\n",
       "  </thead>\n",
       "  <tbody>\n",
       "    <tr>\n",
       "      <th>0</th>\n",
       "      <td>web designerûªs guide io (and android) apps, ...</td>\n",
       "      <td>9</td>\n",
       "      <td>2</td>\n",
       "      <td>0.000000</td>\n",
       "      <td>2</td>\n",
       "    </tr>\n",
       "    <tr>\n",
       "      <th>1</th>\n",
       "      <td>line ipad longer today yesterday. #sxsw // get...</td>\n",
       "      <td>9</td>\n",
       "      <td>2</td>\n",
       "      <td>0.300000</td>\n",
       "      <td>2</td>\n",
       "    </tr>\n",
       "    <tr>\n",
       "      <th>2</th>\n",
       "      <td>crazy apple opening temporary store austin tom...</td>\n",
       "      <td>9</td>\n",
       "      <td>2</td>\n",
       "      <td>-0.600000</td>\n",
       "      <td>2</td>\n",
       "    </tr>\n",
       "    <tr>\n",
       "      <th>3</th>\n",
       "      <td>lesson google one pass: digital environment, u...</td>\n",
       "      <td>9</td>\n",
       "      <td>2</td>\n",
       "      <td>0.000000</td>\n",
       "      <td>2</td>\n",
       "    </tr>\n",
       "    <tr>\n",
       "      <th>4</th>\n",
       "      <td>panel: &amp;quot;your mom ipad, designing boomers&amp;...</td>\n",
       "      <td>9</td>\n",
       "      <td>2</td>\n",
       "      <td>0.000000</td>\n",
       "      <td>2</td>\n",
       "    </tr>\n",
       "    <tr>\n",
       "      <th>...</th>\n",
       "      <td>...</td>\n",
       "      <td>...</td>\n",
       "      <td>...</td>\n",
       "      <td>...</td>\n",
       "      <td>...</td>\n",
       "    </tr>\n",
       "    <tr>\n",
       "      <th>6359</th>\n",
       "      <td>thanks hosting event #sxsw #sxswi #iwantacr48 ...</td>\n",
       "      <td>9</td>\n",
       "      <td>2</td>\n",
       "      <td>0.200000</td>\n",
       "      <td>2</td>\n",
       "    </tr>\n",
       "    <tr>\n",
       "      <th>6360</th>\n",
       "      <td>sxsw iphone app awesome, ipad app crash every ...</td>\n",
       "      <td>7</td>\n",
       "      <td>1</td>\n",
       "      <td>1.000000</td>\n",
       "      <td>1</td>\n",
       "    </tr>\n",
       "    <tr>\n",
       "      <th>6361</th>\n",
       "      <td>download 20+ free track music sampler includin...</td>\n",
       "      <td>9</td>\n",
       "      <td>2</td>\n",
       "      <td>0.500000</td>\n",
       "      <td>2</td>\n",
       "    </tr>\n",
       "    <tr>\n",
       "      <th>6362</th>\n",
       "      <td>oh texas social medium awards: 'you need ask m...</td>\n",
       "      <td>9</td>\n",
       "      <td>2</td>\n",
       "      <td>0.033333</td>\n",
       "      <td>2</td>\n",
       "    </tr>\n",
       "    <tr>\n",
       "      <th>6363</th>\n",
       "      <td>#google launching &amp;quot;major&amp;quot; new social...</td>\n",
       "      <td>9</td>\n",
       "      <td>2</td>\n",
       "      <td>0.084848</td>\n",
       "      <td>2</td>\n",
       "    </tr>\n",
       "  </tbody>\n",
       "</table>\n",
       "<p>6364 rows × 5 columns</p>\n",
       "</div>"
      ],
      "text/plain": [
       "                                    Product_Description Product_Type  \\\n",
       "0     web designerûªs guide io (and android) apps, ...            9   \n",
       "1     line ipad longer today yesterday. #sxsw // get...            9   \n",
       "2     crazy apple opening temporary store austin tom...            9   \n",
       "3     lesson google one pass: digital environment, u...            9   \n",
       "4     panel: &quot;your mom ipad, designing boomers&...            9   \n",
       "...                                                 ...          ...   \n",
       "6359  thanks hosting event #sxsw #sxswi #iwantacr48 ...            9   \n",
       "6360  sxsw iphone app awesome, ipad app crash every ...            7   \n",
       "6361  download 20+ free track music sampler includin...            9   \n",
       "6362  oh texas social medium awards: 'you need ask m...            9   \n",
       "6363  #google launching &quot;major&quot; new social...            9   \n",
       "\n",
       "     Sentiment  sentiment  target  \n",
       "0            2   0.000000       2  \n",
       "1            2   0.300000       2  \n",
       "2            2  -0.600000       2  \n",
       "3            2   0.000000       2  \n",
       "4            2   0.000000       2  \n",
       "...        ...        ...     ...  \n",
       "6359         2   0.200000       2  \n",
       "6360         1   1.000000       1  \n",
       "6361         2   0.500000       2  \n",
       "6362         2   0.033333       2  \n",
       "6363         2   0.084848       2  \n",
       "\n",
       "[6364 rows x 5 columns]"
      ]
     },
     "execution_count": 58,
     "metadata": {},
     "output_type": "execute_result"
    }
   ],
   "source": [
    "df_1['target']=encoder.fit_transform(df_1['Sentiment'])\n",
    "df_1"
   ]
  },
  {
   "cell_type": "code",
   "execution_count": 59,
   "id": "e7e42b75",
   "metadata": {
    "scrolled": true
   },
   "outputs": [
    {
     "data": {
      "text/plain": [
       "0       2\n",
       "1       2\n",
       "2       2\n",
       "3       2\n",
       "4       2\n",
       "       ..\n",
       "6359    2\n",
       "6360    1\n",
       "6361    2\n",
       "6362    2\n",
       "6363    2\n",
       "Name: target, Length: 6364, dtype: int32"
      ]
     },
     "execution_count": 59,
     "metadata": {},
     "output_type": "execute_result"
    }
   ],
   "source": [
    "y = df_1['target']\n",
    "y"
   ]
  },
  {
   "cell_type": "code",
   "execution_count": 60,
   "id": "a5d43244",
   "metadata": {},
   "outputs": [],
   "source": [
    "from sklearn.model_selection import train_test_split   "
   ]
  },
  {
   "cell_type": "code",
   "execution_count": 61,
   "id": "651df877",
   "metadata": {},
   "outputs": [],
   "source": [
    "X_train,X_test,y_train,y_test=train_test_split(x,y,test_size=0.3,random_state=40)"
   ]
  },
  {
   "cell_type": "code",
   "execution_count": null,
   "id": "c7f96372",
   "metadata": {},
   "outputs": [],
   "source": []
  },
  {
   "cell_type": "markdown",
   "id": "11a9a35b",
   "metadata": {},
   "source": [
    "### Model Building"
   ]
  },
  {
   "cell_type": "code",
   "execution_count": 63,
   "id": "d43e49eb",
   "metadata": {},
   "outputs": [],
   "source": [
    "from sklearn.model_selection import train_test_split\n",
    "from sklearn.metrics import accuracy_score\n",
    "from sklearn.metrics import classification_report"
   ]
  },
  {
   "cell_type": "markdown",
   "id": "aa7ebb65",
   "metadata": {},
   "source": [
    "#### 1. Linear SVC"
   ]
  },
  {
   "cell_type": "code",
   "execution_count": 64,
   "id": "ee5759c1",
   "metadata": {},
   "outputs": [
    {
     "data": {
      "text/html": [
       "<style>#sk-container-id-1 {color: black;background-color: white;}#sk-container-id-1 pre{padding: 0;}#sk-container-id-1 div.sk-toggleable {background-color: white;}#sk-container-id-1 label.sk-toggleable__label {cursor: pointer;display: block;width: 100%;margin-bottom: 0;padding: 0.3em;box-sizing: border-box;text-align: center;}#sk-container-id-1 label.sk-toggleable__label-arrow:before {content: \"▸\";float: left;margin-right: 0.25em;color: #696969;}#sk-container-id-1 label.sk-toggleable__label-arrow:hover:before {color: black;}#sk-container-id-1 div.sk-estimator:hover label.sk-toggleable__label-arrow:before {color: black;}#sk-container-id-1 div.sk-toggleable__content {max-height: 0;max-width: 0;overflow: hidden;text-align: left;background-color: #f0f8ff;}#sk-container-id-1 div.sk-toggleable__content pre {margin: 0.2em;color: black;border-radius: 0.25em;background-color: #f0f8ff;}#sk-container-id-1 input.sk-toggleable__control:checked~div.sk-toggleable__content {max-height: 200px;max-width: 100%;overflow: auto;}#sk-container-id-1 input.sk-toggleable__control:checked~label.sk-toggleable__label-arrow:before {content: \"▾\";}#sk-container-id-1 div.sk-estimator input.sk-toggleable__control:checked~label.sk-toggleable__label {background-color: #d4ebff;}#sk-container-id-1 div.sk-label input.sk-toggleable__control:checked~label.sk-toggleable__label {background-color: #d4ebff;}#sk-container-id-1 input.sk-hidden--visually {border: 0;clip: rect(1px 1px 1px 1px);clip: rect(1px, 1px, 1px, 1px);height: 1px;margin: -1px;overflow: hidden;padding: 0;position: absolute;width: 1px;}#sk-container-id-1 div.sk-estimator {font-family: monospace;background-color: #f0f8ff;border: 1px dotted black;border-radius: 0.25em;box-sizing: border-box;margin-bottom: 0.5em;}#sk-container-id-1 div.sk-estimator:hover {background-color: #d4ebff;}#sk-container-id-1 div.sk-parallel-item::after {content: \"\";width: 100%;border-bottom: 1px solid gray;flex-grow: 1;}#sk-container-id-1 div.sk-label:hover label.sk-toggleable__label {background-color: #d4ebff;}#sk-container-id-1 div.sk-serial::before {content: \"\";position: absolute;border-left: 1px solid gray;box-sizing: border-box;top: 0;bottom: 0;left: 50%;z-index: 0;}#sk-container-id-1 div.sk-serial {display: flex;flex-direction: column;align-items: center;background-color: white;padding-right: 0.2em;padding-left: 0.2em;position: relative;}#sk-container-id-1 div.sk-item {position: relative;z-index: 1;}#sk-container-id-1 div.sk-parallel {display: flex;align-items: stretch;justify-content: center;background-color: white;position: relative;}#sk-container-id-1 div.sk-item::before, #sk-container-id-1 div.sk-parallel-item::before {content: \"\";position: absolute;border-left: 1px solid gray;box-sizing: border-box;top: 0;bottom: 0;left: 50%;z-index: -1;}#sk-container-id-1 div.sk-parallel-item {display: flex;flex-direction: column;z-index: 1;position: relative;background-color: white;}#sk-container-id-1 div.sk-parallel-item:first-child::after {align-self: flex-end;width: 50%;}#sk-container-id-1 div.sk-parallel-item:last-child::after {align-self: flex-start;width: 50%;}#sk-container-id-1 div.sk-parallel-item:only-child::after {width: 0;}#sk-container-id-1 div.sk-dashed-wrapped {border: 1px dashed gray;margin: 0 0.4em 0.5em 0.4em;box-sizing: border-box;padding-bottom: 0.4em;background-color: white;}#sk-container-id-1 div.sk-label label {font-family: monospace;font-weight: bold;display: inline-block;line-height: 1.2em;}#sk-container-id-1 div.sk-label-container {text-align: center;}#sk-container-id-1 div.sk-container {/* jupyter's `normalize.less` sets `[hidden] { display: none; }` but bootstrap.min.css set `[hidden] { display: none !important; }` so we also need the `!important` here to be able to override the default hidden behavior on the sphinx rendered scikit-learn.org. See: https://github.com/scikit-learn/scikit-learn/issues/21755 */display: inline-block !important;position: relative;}#sk-container-id-1 div.sk-text-repr-fallback {display: none;}</style><div id=\"sk-container-id-1\" class=\"sk-top-container\"><div class=\"sk-text-repr-fallback\"><pre>LinearSVC(random_state=42)</pre><b>In a Jupyter environment, please rerun this cell to show the HTML representation or trust the notebook. <br />On GitHub, the HTML representation is unable to render, please try loading this page with nbviewer.org.</b></div><div class=\"sk-container\" hidden><div class=\"sk-item\"><div class=\"sk-estimator sk-toggleable\"><input class=\"sk-toggleable__control sk-hidden--visually\" id=\"sk-estimator-id-1\" type=\"checkbox\" checked><label for=\"sk-estimator-id-1\" class=\"sk-toggleable__label sk-toggleable__label-arrow\">LinearSVC</label><div class=\"sk-toggleable__content\"><pre>LinearSVC(random_state=42)</pre></div></div></div></div></div>"
      ],
      "text/plain": [
       "LinearSVC(random_state=42)"
      ]
     },
     "execution_count": 64,
     "metadata": {},
     "output_type": "execute_result"
    }
   ],
   "source": [
    "from sklearn.svm import LinearSVC\n",
    "lin_clf = LinearSVC(random_state=42)\n",
    "lin_clf.fit(X_train, y_train)\n"
   ]
  },
  {
   "cell_type": "code",
   "execution_count": 65,
   "id": "9bc48a77",
   "metadata": {},
   "outputs": [
    {
     "name": "stdout",
     "output_type": "stream",
     "text": [
      "93.51145038167938\n"
     ]
    }
   ],
   "source": [
    "from sklearn.metrics import accuracy_score\n",
    "y_pred = lin_clf.predict(X_train)\n",
    "print(accuracy_score(y_train, y_pred)*100)"
   ]
  },
  {
   "cell_type": "code",
   "execution_count": 66,
   "id": "e9ed3796",
   "metadata": {},
   "outputs": [
    {
     "name": "stdout",
     "output_type": "stream",
     "text": [
      "LinearSVC(random_state=42)\n"
     ]
    }
   ],
   "source": [
    "print(lin_clf)"
   ]
  },
  {
   "cell_type": "code",
   "execution_count": 67,
   "id": "5a949dd0",
   "metadata": {},
   "outputs": [],
   "source": [
    "# make predictions for test data\n",
    "y_pred = lin_clf.predict(X_test)\n",
    "predictions_LSVC = [round(value) for value in y_pred]"
   ]
  },
  {
   "cell_type": "code",
   "execution_count": 68,
   "id": "e9892aa4",
   "metadata": {},
   "outputs": [
    {
     "name": "stdout",
     "output_type": "stream",
     "text": [
      "Accuracy: 66.02%\n"
     ]
    }
   ],
   "source": [
    "# evaluate predictions\n",
    "accuracy_lsvc = accuracy_score(y_test, predictions_LSVC)\n",
    "print(\"Accuracy: %.2f%%\" % (accuracy_lsvc * 100.0))"
   ]
  },
  {
   "cell_type": "code",
   "execution_count": 69,
   "id": "dfc24a4e",
   "metadata": {
    "scrolled": true
   },
   "outputs": [
    {
     "name": "stdout",
     "output_type": "stream",
     "text": [
      "              precision    recall  f1-score   support\n",
      "\n",
      "           0       0.06      0.14      0.09        14\n",
      "           1       0.16      0.66      0.26        32\n",
      "           2       0.82      0.69      0.75      1334\n",
      "           3       0.50      0.60      0.55       530\n",
      "\n",
      "    accuracy                           0.66      1910\n",
      "   macro avg       0.39      0.52      0.41      1910\n",
      "weighted avg       0.72      0.66      0.68      1910\n",
      "\n"
     ]
    }
   ],
   "source": [
    "print(classification_report(predictions_LSVC,y_test))"
   ]
  },
  {
   "cell_type": "code",
   "execution_count": null,
   "id": "c81037f7",
   "metadata": {},
   "outputs": [],
   "source": []
  },
  {
   "cell_type": "code",
   "execution_count": null,
   "id": "fb6302bf",
   "metadata": {},
   "outputs": [],
   "source": []
  },
  {
   "cell_type": "markdown",
   "id": "e50d4adb",
   "metadata": {},
   "source": [
    "#### 2. XGBoost (Extreme Gradient Boosting)"
   ]
  },
  {
   "cell_type": "code",
   "execution_count": 70,
   "id": "49000819",
   "metadata": {},
   "outputs": [],
   "source": [
    "from xgboost import XGBClassifier\n",
    "from sklearn.model_selection import train_test_split\n",
    "from sklearn.metrics import accuracy_score"
   ]
  },
  {
   "cell_type": "code",
   "execution_count": 71,
   "id": "bfd280b8",
   "metadata": {},
   "outputs": [
    {
     "data": {
      "text/plain": [
       "5523    3\n",
       "5736    3\n",
       "2421    2\n",
       "107     2\n",
       "3245    3\n",
       "       ..\n",
       "5426    3\n",
       "3064    2\n",
       "6309    3\n",
       "6151    3\n",
       "3398    2\n",
       "Name: target, Length: 4454, dtype: int32"
      ]
     },
     "execution_count": 71,
     "metadata": {},
     "output_type": "execute_result"
    }
   ],
   "source": [
    "y_train"
   ]
  },
  {
   "cell_type": "code",
   "execution_count": 107,
   "id": "18493d8e",
   "metadata": {},
   "outputs": [
    {
     "data": {
      "text/html": [
       "<style>#sk-container-id-4 {color: black;background-color: white;}#sk-container-id-4 pre{padding: 0;}#sk-container-id-4 div.sk-toggleable {background-color: white;}#sk-container-id-4 label.sk-toggleable__label {cursor: pointer;display: block;width: 100%;margin-bottom: 0;padding: 0.3em;box-sizing: border-box;text-align: center;}#sk-container-id-4 label.sk-toggleable__label-arrow:before {content: \"▸\";float: left;margin-right: 0.25em;color: #696969;}#sk-container-id-4 label.sk-toggleable__label-arrow:hover:before {color: black;}#sk-container-id-4 div.sk-estimator:hover label.sk-toggleable__label-arrow:before {color: black;}#sk-container-id-4 div.sk-toggleable__content {max-height: 0;max-width: 0;overflow: hidden;text-align: left;background-color: #f0f8ff;}#sk-container-id-4 div.sk-toggleable__content pre {margin: 0.2em;color: black;border-radius: 0.25em;background-color: #f0f8ff;}#sk-container-id-4 input.sk-toggleable__control:checked~div.sk-toggleable__content {max-height: 200px;max-width: 100%;overflow: auto;}#sk-container-id-4 input.sk-toggleable__control:checked~label.sk-toggleable__label-arrow:before {content: \"▾\";}#sk-container-id-4 div.sk-estimator input.sk-toggleable__control:checked~label.sk-toggleable__label {background-color: #d4ebff;}#sk-container-id-4 div.sk-label input.sk-toggleable__control:checked~label.sk-toggleable__label {background-color: #d4ebff;}#sk-container-id-4 input.sk-hidden--visually {border: 0;clip: rect(1px 1px 1px 1px);clip: rect(1px, 1px, 1px, 1px);height: 1px;margin: -1px;overflow: hidden;padding: 0;position: absolute;width: 1px;}#sk-container-id-4 div.sk-estimator {font-family: monospace;background-color: #f0f8ff;border: 1px dotted black;border-radius: 0.25em;box-sizing: border-box;margin-bottom: 0.5em;}#sk-container-id-4 div.sk-estimator:hover {background-color: #d4ebff;}#sk-container-id-4 div.sk-parallel-item::after {content: \"\";width: 100%;border-bottom: 1px solid gray;flex-grow: 1;}#sk-container-id-4 div.sk-label:hover label.sk-toggleable__label {background-color: #d4ebff;}#sk-container-id-4 div.sk-serial::before {content: \"\";position: absolute;border-left: 1px solid gray;box-sizing: border-box;top: 0;bottom: 0;left: 50%;z-index: 0;}#sk-container-id-4 div.sk-serial {display: flex;flex-direction: column;align-items: center;background-color: white;padding-right: 0.2em;padding-left: 0.2em;position: relative;}#sk-container-id-4 div.sk-item {position: relative;z-index: 1;}#sk-container-id-4 div.sk-parallel {display: flex;align-items: stretch;justify-content: center;background-color: white;position: relative;}#sk-container-id-4 div.sk-item::before, #sk-container-id-4 div.sk-parallel-item::before {content: \"\";position: absolute;border-left: 1px solid gray;box-sizing: border-box;top: 0;bottom: 0;left: 50%;z-index: -1;}#sk-container-id-4 div.sk-parallel-item {display: flex;flex-direction: column;z-index: 1;position: relative;background-color: white;}#sk-container-id-4 div.sk-parallel-item:first-child::after {align-self: flex-end;width: 50%;}#sk-container-id-4 div.sk-parallel-item:last-child::after {align-self: flex-start;width: 50%;}#sk-container-id-4 div.sk-parallel-item:only-child::after {width: 0;}#sk-container-id-4 div.sk-dashed-wrapped {border: 1px dashed gray;margin: 0 0.4em 0.5em 0.4em;box-sizing: border-box;padding-bottom: 0.4em;background-color: white;}#sk-container-id-4 div.sk-label label {font-family: monospace;font-weight: bold;display: inline-block;line-height: 1.2em;}#sk-container-id-4 div.sk-label-container {text-align: center;}#sk-container-id-4 div.sk-container {/* jupyter's `normalize.less` sets `[hidden] { display: none; }` but bootstrap.min.css set `[hidden] { display: none !important; }` so we also need the `!important` here to be able to override the default hidden behavior on the sphinx rendered scikit-learn.org. See: https://github.com/scikit-learn/scikit-learn/issues/21755 */display: inline-block !important;position: relative;}#sk-container-id-4 div.sk-text-repr-fallback {display: none;}</style><div id=\"sk-container-id-4\" class=\"sk-top-container\"><div class=\"sk-text-repr-fallback\"><pre>XGBClassifier(base_score=0.5, booster=&#x27;gbtree&#x27;, callbacks=None,\n",
       "              colsample_bylevel=1, colsample_bynode=1, colsample_bytree=1,\n",
       "              early_stopping_rounds=None, enable_categorical=False,\n",
       "              eval_metric=None, feature_types=None, gamma=0, gpu_id=-1,\n",
       "              grow_policy=&#x27;depthwise&#x27;, importance_type=None,\n",
       "              interaction_constraints=&#x27;&#x27;, learning_rate=0.300000012,\n",
       "              max_bin=256, max_cat_threshold=64, max_cat_to_onehot=4,\n",
       "              max_delta_step=0, max_depth=6, max_leaves=0, min_child_weight=1,\n",
       "              missing=nan, monotone_constraints=&#x27;()&#x27;, n_estimators=100,\n",
       "              n_jobs=0, num_parallel_tree=1, objective=&#x27;multi:softprob&#x27;,\n",
       "              predictor=&#x27;auto&#x27;, ...)</pre><b>In a Jupyter environment, please rerun this cell to show the HTML representation or trust the notebook. <br />On GitHub, the HTML representation is unable to render, please try loading this page with nbviewer.org.</b></div><div class=\"sk-container\" hidden><div class=\"sk-item\"><div class=\"sk-estimator sk-toggleable\"><input class=\"sk-toggleable__control sk-hidden--visually\" id=\"sk-estimator-id-4\" type=\"checkbox\" checked><label for=\"sk-estimator-id-4\" class=\"sk-toggleable__label sk-toggleable__label-arrow\">XGBClassifier</label><div class=\"sk-toggleable__content\"><pre>XGBClassifier(base_score=0.5, booster=&#x27;gbtree&#x27;, callbacks=None,\n",
       "              colsample_bylevel=1, colsample_bynode=1, colsample_bytree=1,\n",
       "              early_stopping_rounds=None, enable_categorical=False,\n",
       "              eval_metric=None, feature_types=None, gamma=0, gpu_id=-1,\n",
       "              grow_policy=&#x27;depthwise&#x27;, importance_type=None,\n",
       "              interaction_constraints=&#x27;&#x27;, learning_rate=0.300000012,\n",
       "              max_bin=256, max_cat_threshold=64, max_cat_to_onehot=4,\n",
       "              max_delta_step=0, max_depth=6, max_leaves=0, min_child_weight=1,\n",
       "              missing=nan, monotone_constraints=&#x27;()&#x27;, n_estimators=100,\n",
       "              n_jobs=0, num_parallel_tree=1, objective=&#x27;multi:softprob&#x27;,\n",
       "              predictor=&#x27;auto&#x27;, ...)</pre></div></div></div></div></div>"
      ],
      "text/plain": [
       "XGBClassifier(base_score=0.5, booster='gbtree', callbacks=None,\n",
       "              colsample_bylevel=1, colsample_bynode=1, colsample_bytree=1,\n",
       "              early_stopping_rounds=None, enable_categorical=False,\n",
       "              eval_metric=None, feature_types=None, gamma=0, gpu_id=-1,\n",
       "              grow_policy='depthwise', importance_type=None,\n",
       "              interaction_constraints='', learning_rate=0.300000012,\n",
       "              max_bin=256, max_cat_threshold=64, max_cat_to_onehot=4,\n",
       "              max_delta_step=0, max_depth=6, max_leaves=0, min_child_weight=1,\n",
       "              missing=nan, monotone_constraints='()', n_estimators=100,\n",
       "              n_jobs=0, num_parallel_tree=1, objective='multi:softprob',\n",
       "              predictor='auto', ...)"
      ]
     },
     "execution_count": 107,
     "metadata": {},
     "output_type": "execute_result"
    }
   ],
   "source": [
    "# fit model no training data\n",
    "model = XGBClassifier()\n",
    "model.fit(X_train,y_train)"
   ]
  },
  {
   "cell_type": "code",
   "execution_count": 108,
   "id": "5910e5a9",
   "metadata": {},
   "outputs": [
    {
     "name": "stdout",
     "output_type": "stream",
     "text": [
      "XGBClassifier(base_score=0.5, booster='gbtree', callbacks=None,\n",
      "              colsample_bylevel=1, colsample_bynode=1, colsample_bytree=1,\n",
      "              early_stopping_rounds=None, enable_categorical=False,\n",
      "              eval_metric=None, feature_types=None, gamma=0, gpu_id=-1,\n",
      "              grow_policy='depthwise', importance_type=None,\n",
      "              interaction_constraints='', learning_rate=0.300000012,\n",
      "              max_bin=256, max_cat_threshold=64, max_cat_to_onehot=4,\n",
      "              max_delta_step=0, max_depth=6, max_leaves=0, min_child_weight=1,\n",
      "              missing=nan, monotone_constraints='()', n_estimators=100,\n",
      "              n_jobs=0, num_parallel_tree=1, objective='multi:softprob',\n",
      "              predictor='auto', ...)\n"
     ]
    }
   ],
   "source": [
    "print(model)"
   ]
  },
  {
   "cell_type": "code",
   "execution_count": 109,
   "id": "900be3f3",
   "metadata": {},
   "outputs": [],
   "source": [
    "xgb_classifier = XGBClassifier()\n"
   ]
  },
  {
   "cell_type": "code",
   "execution_count": 110,
   "id": "8f40671f",
   "metadata": {},
   "outputs": [
    {
     "data": {
      "text/html": [
       "<style>#sk-container-id-5 {color: black;background-color: white;}#sk-container-id-5 pre{padding: 0;}#sk-container-id-5 div.sk-toggleable {background-color: white;}#sk-container-id-5 label.sk-toggleable__label {cursor: pointer;display: block;width: 100%;margin-bottom: 0;padding: 0.3em;box-sizing: border-box;text-align: center;}#sk-container-id-5 label.sk-toggleable__label-arrow:before {content: \"▸\";float: left;margin-right: 0.25em;color: #696969;}#sk-container-id-5 label.sk-toggleable__label-arrow:hover:before {color: black;}#sk-container-id-5 div.sk-estimator:hover label.sk-toggleable__label-arrow:before {color: black;}#sk-container-id-5 div.sk-toggleable__content {max-height: 0;max-width: 0;overflow: hidden;text-align: left;background-color: #f0f8ff;}#sk-container-id-5 div.sk-toggleable__content pre {margin: 0.2em;color: black;border-radius: 0.25em;background-color: #f0f8ff;}#sk-container-id-5 input.sk-toggleable__control:checked~div.sk-toggleable__content {max-height: 200px;max-width: 100%;overflow: auto;}#sk-container-id-5 input.sk-toggleable__control:checked~label.sk-toggleable__label-arrow:before {content: \"▾\";}#sk-container-id-5 div.sk-estimator input.sk-toggleable__control:checked~label.sk-toggleable__label {background-color: #d4ebff;}#sk-container-id-5 div.sk-label input.sk-toggleable__control:checked~label.sk-toggleable__label {background-color: #d4ebff;}#sk-container-id-5 input.sk-hidden--visually {border: 0;clip: rect(1px 1px 1px 1px);clip: rect(1px, 1px, 1px, 1px);height: 1px;margin: -1px;overflow: hidden;padding: 0;position: absolute;width: 1px;}#sk-container-id-5 div.sk-estimator {font-family: monospace;background-color: #f0f8ff;border: 1px dotted black;border-radius: 0.25em;box-sizing: border-box;margin-bottom: 0.5em;}#sk-container-id-5 div.sk-estimator:hover {background-color: #d4ebff;}#sk-container-id-5 div.sk-parallel-item::after {content: \"\";width: 100%;border-bottom: 1px solid gray;flex-grow: 1;}#sk-container-id-5 div.sk-label:hover label.sk-toggleable__label {background-color: #d4ebff;}#sk-container-id-5 div.sk-serial::before {content: \"\";position: absolute;border-left: 1px solid gray;box-sizing: border-box;top: 0;bottom: 0;left: 50%;z-index: 0;}#sk-container-id-5 div.sk-serial {display: flex;flex-direction: column;align-items: center;background-color: white;padding-right: 0.2em;padding-left: 0.2em;position: relative;}#sk-container-id-5 div.sk-item {position: relative;z-index: 1;}#sk-container-id-5 div.sk-parallel {display: flex;align-items: stretch;justify-content: center;background-color: white;position: relative;}#sk-container-id-5 div.sk-item::before, #sk-container-id-5 div.sk-parallel-item::before {content: \"\";position: absolute;border-left: 1px solid gray;box-sizing: border-box;top: 0;bottom: 0;left: 50%;z-index: -1;}#sk-container-id-5 div.sk-parallel-item {display: flex;flex-direction: column;z-index: 1;position: relative;background-color: white;}#sk-container-id-5 div.sk-parallel-item:first-child::after {align-self: flex-end;width: 50%;}#sk-container-id-5 div.sk-parallel-item:last-child::after {align-self: flex-start;width: 50%;}#sk-container-id-5 div.sk-parallel-item:only-child::after {width: 0;}#sk-container-id-5 div.sk-dashed-wrapped {border: 1px dashed gray;margin: 0 0.4em 0.5em 0.4em;box-sizing: border-box;padding-bottom: 0.4em;background-color: white;}#sk-container-id-5 div.sk-label label {font-family: monospace;font-weight: bold;display: inline-block;line-height: 1.2em;}#sk-container-id-5 div.sk-label-container {text-align: center;}#sk-container-id-5 div.sk-container {/* jupyter's `normalize.less` sets `[hidden] { display: none; }` but bootstrap.min.css set `[hidden] { display: none !important; }` so we also need the `!important` here to be able to override the default hidden behavior on the sphinx rendered scikit-learn.org. See: https://github.com/scikit-learn/scikit-learn/issues/21755 */display: inline-block !important;position: relative;}#sk-container-id-5 div.sk-text-repr-fallback {display: none;}</style><div id=\"sk-container-id-5\" class=\"sk-top-container\"><div class=\"sk-text-repr-fallback\"><pre>XGBClassifier(base_score=0.5, booster=&#x27;gbtree&#x27;, callbacks=None,\n",
       "              colsample_bylevel=1, colsample_bynode=1, colsample_bytree=1,\n",
       "              early_stopping_rounds=None, enable_categorical=False,\n",
       "              eval_metric=None, feature_types=None, gamma=0, gpu_id=-1,\n",
       "              grow_policy=&#x27;depthwise&#x27;, importance_type=None,\n",
       "              interaction_constraints=&#x27;&#x27;, learning_rate=0.300000012,\n",
       "              max_bin=256, max_cat_threshold=64, max_cat_to_onehot=4,\n",
       "              max_delta_step=0, max_depth=6, max_leaves=0, min_child_weight=1,\n",
       "              missing=nan, monotone_constraints=&#x27;()&#x27;, n_estimators=100,\n",
       "              n_jobs=0, num_parallel_tree=1, objective=&#x27;multi:softprob&#x27;,\n",
       "              predictor=&#x27;auto&#x27;, ...)</pre><b>In a Jupyter environment, please rerun this cell to show the HTML representation or trust the notebook. <br />On GitHub, the HTML representation is unable to render, please try loading this page with nbviewer.org.</b></div><div class=\"sk-container\" hidden><div class=\"sk-item\"><div class=\"sk-estimator sk-toggleable\"><input class=\"sk-toggleable__control sk-hidden--visually\" id=\"sk-estimator-id-5\" type=\"checkbox\" checked><label for=\"sk-estimator-id-5\" class=\"sk-toggleable__label sk-toggleable__label-arrow\">XGBClassifier</label><div class=\"sk-toggleable__content\"><pre>XGBClassifier(base_score=0.5, booster=&#x27;gbtree&#x27;, callbacks=None,\n",
       "              colsample_bylevel=1, colsample_bynode=1, colsample_bytree=1,\n",
       "              early_stopping_rounds=None, enable_categorical=False,\n",
       "              eval_metric=None, feature_types=None, gamma=0, gpu_id=-1,\n",
       "              grow_policy=&#x27;depthwise&#x27;, importance_type=None,\n",
       "              interaction_constraints=&#x27;&#x27;, learning_rate=0.300000012,\n",
       "              max_bin=256, max_cat_threshold=64, max_cat_to_onehot=4,\n",
       "              max_delta_step=0, max_depth=6, max_leaves=0, min_child_weight=1,\n",
       "              missing=nan, monotone_constraints=&#x27;()&#x27;, n_estimators=100,\n",
       "              n_jobs=0, num_parallel_tree=1, objective=&#x27;multi:softprob&#x27;,\n",
       "              predictor=&#x27;auto&#x27;, ...)</pre></div></div></div></div></div>"
      ],
      "text/plain": [
       "XGBClassifier(base_score=0.5, booster='gbtree', callbacks=None,\n",
       "              colsample_bylevel=1, colsample_bynode=1, colsample_bytree=1,\n",
       "              early_stopping_rounds=None, enable_categorical=False,\n",
       "              eval_metric=None, feature_types=None, gamma=0, gpu_id=-1,\n",
       "              grow_policy='depthwise', importance_type=None,\n",
       "              interaction_constraints='', learning_rate=0.300000012,\n",
       "              max_bin=256, max_cat_threshold=64, max_cat_to_onehot=4,\n",
       "              max_delta_step=0, max_depth=6, max_leaves=0, min_child_weight=1,\n",
       "              missing=nan, monotone_constraints='()', n_estimators=100,\n",
       "              n_jobs=0, num_parallel_tree=1, objective='multi:softprob',\n",
       "              predictor='auto', ...)"
      ]
     },
     "execution_count": 110,
     "metadata": {},
     "output_type": "execute_result"
    }
   ],
   "source": [
    "from sklearn.utils import class_weight\n",
    "classes_weights = class_weight.compute_sample_weight(\n",
    "    class_weight='balanced',\n",
    "    y=df_1[\"Sentiment\"]\n",
    ")\n",
    "\n",
    "xgb_classifier.fit(x, y, sample_weight=classes_weights)\n"
   ]
  },
  {
   "cell_type": "code",
   "execution_count": 76,
   "id": "87bf7a17",
   "metadata": {},
   "outputs": [],
   "source": [
    "from sklearn.utils.class_weight import compute_sample_weight\n"
   ]
  },
  {
   "cell_type": "code",
   "execution_count": 77,
   "id": "c9d15f0f",
   "metadata": {},
   "outputs": [],
   "source": [
    "import xgboost as xgb\n",
    "xgb_classifier = xgb.XGBClassifier()"
   ]
  },
  {
   "cell_type": "code",
   "execution_count": 111,
   "id": "f84c1d7a",
   "metadata": {},
   "outputs": [],
   "source": [
    "# make predictions for test data\n",
    "y_pred = xgb_classifier.predict(X_test)\n",
    "pred_xg = [round(value) for value in y_pred]"
   ]
  },
  {
   "cell_type": "code",
   "execution_count": 112,
   "id": "76736764",
   "metadata": {},
   "outputs": [
    {
     "name": "stdout",
     "output_type": "stream",
     "text": [
      "Accuracy score using XGBoost: 80.63%\n"
     ]
    }
   ],
   "source": [
    "# evaluate predictions\n",
    "accuracy_xg = accuracy_score(y_test, pred_xg)\n",
    "print(\"Accuracy score using XGBoost: %.2f%%\" % (accuracy_xg * 100.0))"
   ]
  },
  {
   "cell_type": "code",
   "execution_count": 113,
   "id": "a2cf4134",
   "metadata": {
    "scrolled": true
   },
   "outputs": [
    {
     "name": "stdout",
     "output_type": "stream",
     "text": [
      "              precision    recall  f1-score   support\n",
      "\n",
      "           0       1.00      0.53      0.70        60\n",
      "           1       0.99      0.60      0.75       219\n",
      "           2       0.78      0.89      0.84       982\n",
      "           3       0.80      0.77      0.78       649\n",
      "\n",
      "    accuracy                           0.81      1910\n",
      "   macro avg       0.89      0.70      0.77      1910\n",
      "weighted avg       0.82      0.81      0.80      1910\n",
      "\n"
     ]
    }
   ],
   "source": [
    "print(classification_report(pred_xg,y_test))"
   ]
  },
  {
   "cell_type": "markdown",
   "id": "2dee889f",
   "metadata": {},
   "source": [
    "#### 3. Bagging Boosting"
   ]
  },
  {
   "cell_type": "code",
   "execution_count": 114,
   "id": "77606b4b",
   "metadata": {},
   "outputs": [],
   "source": [
    "from sklearn.tree import  DecisionTreeClassifier\n",
    "from sklearn.metrics import accuracy_score#importing metrics for accuracy calculation (confusion matrix)\n",
    "from sklearn.ensemble import BaggingClassifier#bagging combines the results of multipls models to get a generalized result. \n",
    "from sklearn.ensemble import AdaBoostClassifier #boosting method attempts to correct the errors of previous models.\n",
    "from sklearn.metrics import classification_report, confusion_matrix"
   ]
  },
  {
   "cell_type": "code",
   "execution_count": 115,
   "id": "f0ebe857",
   "metadata": {},
   "outputs": [],
   "source": [
    "dcmodel =  BaggingClassifier(DecisionTreeClassifier(max_depth = 5), random_state=42) #decision tree classifier object\n",
    "dcmodel =  AdaBoostClassifier(DecisionTreeClassifier(max_depth = 5), random_state=42) #decision tree classifier object"
   ]
  },
  {
   "cell_type": "code",
   "execution_count": 116,
   "id": "f8cbd2e8",
   "metadata": {},
   "outputs": [],
   "source": [
    "dcmodel = dcmodel.fit(X_train,y_train) #train decision tree\n",
    "pred_bag = dcmodel.predict(X_test)"
   ]
  },
  {
   "cell_type": "code",
   "execution_count": 117,
   "id": "4ef7925a",
   "metadata": {},
   "outputs": [],
   "source": [
    "accuracy_bag = accuracy_score(y_test,pred_bag)*100"
   ]
  },
  {
   "cell_type": "code",
   "execution_count": 118,
   "id": "af86b849",
   "metadata": {},
   "outputs": [
    {
     "name": "stdout",
     "output_type": "stream",
     "text": [
      "Accuracy score using Bagging Boosting: 55.76%\n"
     ]
    }
   ],
   "source": [
    "print(\"Accuracy score using Bagging Boosting: %.2f%%\" % (accuracy_bag))"
   ]
  },
  {
   "cell_type": "code",
   "execution_count": 119,
   "id": "b88f61af",
   "metadata": {},
   "outputs": [
    {
     "name": "stdout",
     "output_type": "stream",
     "text": [
      "              precision    recall  f1-score   support\n",
      "\n",
      "           0       0.06      0.17      0.09        12\n",
      "           1       0.12      0.22      0.16        73\n",
      "           2       0.75      0.63      0.68      1344\n",
      "           3       0.33      0.43      0.37       481\n",
      "\n",
      "    accuracy                           0.56      1910\n",
      "   macro avg       0.32      0.36      0.33      1910\n",
      "weighted avg       0.62      0.56      0.58      1910\n",
      "\n"
     ]
    }
   ],
   "source": [
    "print(classification_report(pred_bag,y_test))"
   ]
  },
  {
   "cell_type": "code",
   "execution_count": null,
   "id": "946b9114",
   "metadata": {},
   "outputs": [],
   "source": []
  },
  {
   "cell_type": "markdown",
   "id": "1eb6736e",
   "metadata": {},
   "source": [
    "#### 4. Random Forest"
   ]
  },
  {
   "cell_type": "code",
   "execution_count": 120,
   "id": "0dab4f60",
   "metadata": {},
   "outputs": [],
   "source": [
    "from sklearn.ensemble import RandomForestClassifier\n",
    "from sklearn.metrics import classification_report\n"
   ]
  },
  {
   "cell_type": "code",
   "execution_count": 121,
   "id": "371c6fe4",
   "metadata": {},
   "outputs": [],
   "source": [
    "rf = RandomForestClassifier(n_jobs=3,oob_score=True,n_estimators=15,criterion=\"entropy\")"
   ]
  },
  {
   "cell_type": "code",
   "execution_count": 122,
   "id": "8d0391a2",
   "metadata": {},
   "outputs": [
    {
     "name": "stdout",
     "output_type": "stream",
     "text": [
      "62.55051638976201\n"
     ]
    }
   ],
   "source": [
    "rf.fit(X_train,y_train) # Fitting RandomForestClassifier model from sklearn.ensemble \n",
    "rf.estimators_ # \n",
    "rf.classes_ # class labels (output)\n",
    "rf.n_classes_ # Number of levels in class labels \n",
    "rf.n_features_  # Number of input features in model 8 here.\n",
    "\n",
    "rf.n_outputs_ # Number of outputs when fit performed\n",
    "\n",
    "print(rf.oob_score_*100) "
   ]
  },
  {
   "cell_type": "code",
   "execution_count": 123,
   "id": "ec594288",
   "metadata": {},
   "outputs": [
    {
     "data": {
      "text/plain": [
       "array([2, 3, 3, ..., 3, 2, 3])"
      ]
     },
     "execution_count": 123,
     "metadata": {},
     "output_type": "execute_result"
    }
   ],
   "source": [
    "rf.predict(X_test)"
   ]
  },
  {
   "cell_type": "code",
   "execution_count": 124,
   "id": "fca9c4b1",
   "metadata": {},
   "outputs": [
    {
     "data": {
      "text/plain": [
       "2    1535\n",
       "3     342\n",
       "1      23\n",
       "0      10\n",
       "dtype: int64"
      ]
     },
     "execution_count": 124,
     "metadata": {},
     "output_type": "execute_result"
    }
   ],
   "source": [
    "pred_random = rf.predict(X_test)\n",
    "pd.Series(pred_random).value_counts()"
   ]
  },
  {
   "cell_type": "code",
   "execution_count": 125,
   "id": "77d162bb",
   "metadata": {},
   "outputs": [
    {
     "data": {
      "text/plain": [
       "array([2, 3, 3, ..., 3, 2, 3])"
      ]
     },
     "execution_count": 125,
     "metadata": {},
     "output_type": "execute_result"
    }
   ],
   "source": [
    "pred_random"
   ]
  },
  {
   "cell_type": "code",
   "execution_count": 126,
   "id": "04b26578",
   "metadata": {},
   "outputs": [
    {
     "data": {
      "text/html": [
       "<div>\n",
       "<style scoped>\n",
       "    .dataframe tbody tr th:only-of-type {\n",
       "        vertical-align: middle;\n",
       "    }\n",
       "\n",
       "    .dataframe tbody tr th {\n",
       "        vertical-align: top;\n",
       "    }\n",
       "\n",
       "    .dataframe thead th {\n",
       "        text-align: right;\n",
       "    }\n",
       "</style>\n",
       "<table border=\"1\" class=\"dataframe\">\n",
       "  <thead>\n",
       "    <tr style=\"text-align: right;\">\n",
       "      <th>col_0</th>\n",
       "      <th>0</th>\n",
       "      <th>1</th>\n",
       "      <th>2</th>\n",
       "      <th>3</th>\n",
       "    </tr>\n",
       "    <tr>\n",
       "      <th>target</th>\n",
       "      <th></th>\n",
       "      <th></th>\n",
       "      <th></th>\n",
       "      <th></th>\n",
       "    </tr>\n",
       "  </thead>\n",
       "  <tbody>\n",
       "    <tr>\n",
       "      <th>0</th>\n",
       "      <td>2</td>\n",
       "      <td>3</td>\n",
       "      <td>24</td>\n",
       "      <td>3</td>\n",
       "    </tr>\n",
       "    <tr>\n",
       "      <th>1</th>\n",
       "      <td>1</td>\n",
       "      <td>14</td>\n",
       "      <td>104</td>\n",
       "      <td>13</td>\n",
       "    </tr>\n",
       "    <tr>\n",
       "      <th>2</th>\n",
       "      <td>6</td>\n",
       "      <td>6</td>\n",
       "      <td>995</td>\n",
       "      <td>112</td>\n",
       "    </tr>\n",
       "    <tr>\n",
       "      <th>3</th>\n",
       "      <td>1</td>\n",
       "      <td>0</td>\n",
       "      <td>412</td>\n",
       "      <td>214</td>\n",
       "    </tr>\n",
       "  </tbody>\n",
       "</table>\n",
       "</div>"
      ],
      "text/plain": [
       "col_0   0   1    2    3\n",
       "target                 \n",
       "0       2   3   24    3\n",
       "1       1  14  104   13\n",
       "2       6   6  995  112\n",
       "3       1   0  412  214"
      ]
     },
     "execution_count": 126,
     "metadata": {},
     "output_type": "execute_result"
    }
   ],
   "source": [
    "# In order to check whether the predictions are correct or wrong we will create a cross tab on y_test data\n",
    "\n",
    "crosstable = pd.crosstab(y_test,pred_random)\n",
    "crosstable"
   ]
  },
  {
   "cell_type": "code",
   "execution_count": 127,
   "id": "d519b87b",
   "metadata": {},
   "outputs": [
    {
     "data": {
      "text/plain": [
       "64.13612565445025"
      ]
     },
     "execution_count": 127,
     "metadata": {},
     "output_type": "execute_result"
    }
   ],
   "source": [
    "# Final step we will calculate the accuracy of our model\n",
    "\n",
    "# We are comparing the predicted values with the actual values and calculating mean for the matches\n",
    "np.mean(pred_random==y_test)*100"
   ]
  },
  {
   "cell_type": "code",
   "execution_count": 128,
   "id": "e69aad0a",
   "metadata": {
    "scrolled": true
   },
   "outputs": [
    {
     "name": "stdout",
     "output_type": "stream",
     "text": [
      "              precision    recall  f1-score   support\n",
      "\n",
      "           0       0.06      0.20      0.10        10\n",
      "           1       0.11      0.61      0.18        23\n",
      "           2       0.89      0.65      0.75      1535\n",
      "           3       0.34      0.63      0.44       342\n",
      "\n",
      "    accuracy                           0.64      1910\n",
      "   macro avg       0.35      0.52      0.37      1910\n",
      "weighted avg       0.78      0.64      0.68      1910\n",
      "\n"
     ]
    }
   ],
   "source": [
    "print(classification_report(pred_random,y_test))"
   ]
  },
  {
   "cell_type": "code",
   "execution_count": null,
   "id": "8ad958bd",
   "metadata": {},
   "outputs": [],
   "source": []
  },
  {
   "cell_type": "markdown",
   "id": "58614a51",
   "metadata": {},
   "source": [
    "#### 5. SVC"
   ]
  },
  {
   "cell_type": "code",
   "execution_count": 129,
   "id": "23f3d800",
   "metadata": {},
   "outputs": [],
   "source": [
    "from sklearn.svm import SVC\n",
    "from sklearn import svm\n",
    "\n",
    "from sklearn.model_selection import GridSearchCV\n",
    "from sklearn.metrics import classification_report\n",
    "\n",
    "from sklearn.metrics import accuracy_score, confusion_matrix\n",
    "from sklearn.model_selection import train_test_split, cross_val_score"
   ]
  },
  {
   "cell_type": "code",
   "execution_count": 130,
   "id": "50d04a67",
   "metadata": {},
   "outputs": [],
   "source": [
    "# clf = SVC()\n",
    "# param_grid = [{'kernel':['rbf'],'gamma':[25,20,10,1,0.5],'C':[20,15,14,13,12,11,10,0.1,0.001] }]\n",
    "# gsv = GridSearchCV(clf,param_grid,cv=10)\n"
   ]
  },
  {
   "cell_type": "code",
   "execution_count": 131,
   "id": "0097943b",
   "metadata": {},
   "outputs": [],
   "source": [
    "# gsv.fit(X_train, y_train)"
   ]
  },
  {
   "cell_type": "code",
   "execution_count": 132,
   "id": "0cf54983",
   "metadata": {},
   "outputs": [],
   "source": [
    "# gsv.best_params_ , gsv.best_score_ "
   ]
  },
  {
   "cell_type": "code",
   "execution_count": 133,
   "id": "f63c623f",
   "metadata": {
    "scrolled": false
   },
   "outputs": [
    {
     "name": "stdout",
     "output_type": "stream",
     "text": [
      "Accuracy = 65.60209424083769\n"
     ]
    },
    {
     "data": {
      "text/plain": [
       "array([[  2,   3,  20,   7],\n",
       "       [  2,  17,  96,  17],\n",
       "       [  8,   4, 953, 154],\n",
       "       [  2,   1, 343, 281]], dtype=int64)"
      ]
     },
     "execution_count": 133,
     "metadata": {},
     "output_type": "execute_result"
    }
   ],
   "source": [
    "clf = SVC(C= 11, gamma = 1, kernel = 'rbf')\n",
    "clf.fit(X_train , y_train)\n",
    "pred_svc = clf.predict(X_test)\n",
    "acc_svc = accuracy_score(y_test, pred_svc) * 100\n",
    "print(\"Accuracy =\", acc_svc)\n",
    "confusion_matrix(y_test, pred_svc)"
   ]
  },
  {
   "cell_type": "code",
   "execution_count": 134,
   "id": "d4127a92",
   "metadata": {},
   "outputs": [
    {
     "name": "stdout",
     "output_type": "stream",
     "text": [
      "              precision    recall  f1-score   support\n",
      "\n",
      "           0       0.06      0.14      0.09        14\n",
      "           1       0.13      0.68      0.22        25\n",
      "           2       0.85      0.67      0.75      1412\n",
      "           3       0.45      0.61      0.52       459\n",
      "\n",
      "    accuracy                           0.66      1910\n",
      "   macro avg       0.37      0.53      0.39      1910\n",
      "weighted avg       0.74      0.66      0.68      1910\n",
      "\n"
     ]
    }
   ],
   "source": [
    "print(classification_report(pred_svc,y_test))"
   ]
  },
  {
   "cell_type": "code",
   "execution_count": null,
   "id": "6dd78aac",
   "metadata": {},
   "outputs": [],
   "source": []
  },
  {
   "cell_type": "code",
   "execution_count": 148,
   "id": "856c4e6e",
   "metadata": {},
   "outputs": [
    {
     "name": "stdout",
     "output_type": "stream",
     "text": [
      "Accuracy score using XGBoost               : 80.63%\n",
      "Accuracy score using Bagging Boosting:     : 55.76%\n",
      "Accuracy score using Random Forest         : 62.55%\n",
      "Accuracy score using SVC_best params       : 65.60%\n"
     ]
    }
   ],
   "source": [
    "print(\"Accuracy score using XGBoost               : %.2f%%\" % (accuracy_xg * 100.0))\n",
    "print(\"Accuracy score using Bagging Boosting:     : %.2f%%\" % (accuracy_bag))\n",
    "print(\"Accuracy score using Random Forest         : %.2f%%\" % (rf.oob_score_*100))\n",
    "print(\"Accuracy score using SVC_best params       : %.2f%%\" % (acc_svc))"
   ]
  },
  {
   "cell_type": "code",
   "execution_count": null,
   "id": "faf87879",
   "metadata": {},
   "outputs": [],
   "source": []
  },
  {
   "cell_type": "code",
   "execution_count": 142,
   "id": "d195124f",
   "metadata": {},
   "outputs": [],
   "source": [
    "# saving the model \n",
    "import pickle \n",
    "pickle_out = open(\"model.pkl\", mode = \"wb\") \n",
    "pickle.dump(xgb_classifier, pickle_out) \n",
    "pickle_out.close()"
   ]
  },
  {
   "cell_type": "code",
   "execution_count": null,
   "id": "277020d7",
   "metadata": {},
   "outputs": [],
   "source": []
  }
 ],
 "metadata": {
  "kernelspec": {
   "display_name": "Python 3 (ipykernel)",
   "language": "python",
   "name": "python3"
  },
  "language_info": {
   "codemirror_mode": {
    "name": "ipython",
    "version": 3
   },
   "file_extension": ".py",
   "mimetype": "text/x-python",
   "name": "python",
   "nbconvert_exporter": "python",
   "pygments_lexer": "ipython3",
   "version": "3.9.12"
  }
 },
 "nbformat": 4,
 "nbformat_minor": 5
}
